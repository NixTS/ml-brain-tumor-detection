{
  "cells": [
    {
      "cell_type": "markdown",
      "metadata": {},
      "source": [
        "# PP5 - ML Brain Tumor Detector"
      ]
    },
    {
      "cell_type": "markdown",
      "metadata": {
        "id": "0aStgWSO0E0E"
      },
      "source": [
        "## Notebook 1 - Data Collection"
      ]
    },
    {
      "cell_type": "markdown",
      "metadata": {
        "id": "1eLEkw5O0ECa"
      },
      "source": [
        "### Objectives\n",
        "\n",
        "* Fetch data from kaggle and prepare data for further processes.\n",
        "\n",
        "\n",
        "### Inputs\n",
        "\n",
        "* \n",
        "\n",
        "\n",
        "### Outputs\n",
        "\n",
        "| **output**      |          |       |\n",
        "|-----------------|----------|-------|\n",
        "| **train/**      | no_tumor | tumor |\n",
        "| **test/**       | no_tumor | tumor |\n",
        "| **validation/** | no_tumor | tumor |\n",
        "\n",
        "\n",
        "### Additional Comments\n",
        "\n",
        "* Dataset: [Kaggle](https://www.kaggle.com/datasets/sartajbhuvaji/brain-tumor-classification-mri?select=Training)\n",
        "* License: [MIT](https://www.mit.edu/~amini/LICENSE.md)"
      ]
    },
    {
      "cell_type": "markdown",
      "metadata": {
        "id": "9uWZXH9LwoQg"
      },
      "source": [
        "---"
      ]
    },
    {
      "cell_type": "markdown",
      "metadata": {},
      "source": [
        "### Import packages"
      ]
    },
    {
      "cell_type": "code",
      "execution_count": 1,
      "metadata": {},
      "outputs": [
        {
          "name": "stdout",
          "output_type": "stream",
          "text": [
            "Requirement already satisfied: numpy==1.26.4 in c:\\users\\tobis\\appdata\\local\\programs\\python\\python312\\lib\\site-packages (from -r ../requirements.txt (line 1)) (1.26.4)\n",
            "Requirement already satisfied: pandas==2.2.1 in c:\\users\\tobis\\appdata\\local\\programs\\python\\python312\\lib\\site-packages (from -r ../requirements.txt (line 2)) (2.2.1)\n",
            "Requirement already satisfied: matplotlib==3.8.3 in c:\\users\\tobis\\appdata\\local\\programs\\python\\python312\\lib\\site-packages (from -r ../requirements.txt (line 3)) (3.8.3)\n",
            "Requirement already satisfied: seaborn==0.13.2 in c:\\users\\tobis\\appdata\\local\\programs\\python\\python312\\lib\\site-packages (from -r ../requirements.txt (line 4)) (0.13.2)\n",
            "Requirement already satisfied: plotly==5.20.0 in c:\\users\\tobis\\appdata\\local\\programs\\python\\python312\\lib\\site-packages (from -r ../requirements.txt (line 5)) (5.20.0)\n",
            "Requirement already satisfied: streamlit==1.32.2 in c:\\users\\tobis\\appdata\\local\\programs\\python\\python312\\lib\\site-packages (from -r ../requirements.txt (line 6)) (1.32.2)\n",
            "Requirement already satisfied: joblib==1.3.2 in c:\\users\\tobis\\appdata\\local\\programs\\python\\python312\\lib\\site-packages (from -r ../requirements.txt (line 7)) (1.3.2)\n",
            "Requirement already satisfied: scikit-learn==1.4.1.post1 in c:\\users\\tobis\\appdata\\local\\programs\\python\\python312\\lib\\site-packages (from -r ../requirements.txt (line 8)) (1.4.1.post1)\n",
            "Requirement already satisfied: tensorflow-cpu==2.16.1 in c:\\users\\tobis\\appdata\\local\\programs\\python\\python312\\lib\\site-packages (from -r ../requirements.txt (line 9)) (2.16.1)\n",
            "Requirement already satisfied: tensorflow-intel==2.16.1 in c:\\users\\tobis\\appdata\\local\\programs\\python\\python312\\lib\\site-packages (from -r ../requirements.txt (line 10)) (2.16.1)\n",
            "Requirement already satisfied: keras==3.1.1 in c:\\users\\tobis\\appdata\\local\\programs\\python\\python312\\lib\\site-packages (from -r ../requirements.txt (line 11)) (3.1.1)\n",
            "Requirement already satisfied: absl-py==2.1.0 in c:\\users\\tobis\\appdata\\local\\programs\\python\\python312\\lib\\site-packages (from -r ../requirements.txt (line 13)) (2.1.0)\n",
            "Requirement already satisfied: altair==5.3.0 in c:\\users\\tobis\\appdata\\local\\programs\\python\\python312\\lib\\site-packages (from -r ../requirements.txt (line 14)) (5.3.0)\n",
            "Requirement already satisfied: asttokens==2.4.1 in c:\\users\\tobis\\appdata\\roaming\\python\\python312\\site-packages (from -r ../requirements.txt (line 15)) (2.4.1)\n",
            "Requirement already satisfied: astunparse==1.6.3 in c:\\users\\tobis\\appdata\\local\\programs\\python\\python312\\lib\\site-packages (from -r ../requirements.txt (line 16)) (1.6.3)\n",
            "Requirement already satisfied: attrs==23.2.0 in c:\\users\\tobis\\appdata\\local\\programs\\python\\python312\\lib\\site-packages (from -r ../requirements.txt (line 17)) (23.2.0)\n",
            "Requirement already satisfied: blinker==1.7.0 in c:\\users\\tobis\\appdata\\local\\programs\\python\\python312\\lib\\site-packages (from -r ../requirements.txt (line 18)) (1.7.0)\n",
            "Requirement already satisfied: cachetools==5.3.3 in c:\\users\\tobis\\appdata\\local\\programs\\python\\python312\\lib\\site-packages (from -r ../requirements.txt (line 19)) (5.3.3)\n",
            "Requirement already satisfied: certifi==2024.2.2 in c:\\users\\tobis\\appdata\\local\\programs\\python\\python312\\lib\\site-packages (from -r ../requirements.txt (line 20)) (2024.2.2)\n",
            "Requirement already satisfied: charset-normalizer==3.3.2 in c:\\users\\tobis\\appdata\\local\\programs\\python\\python312\\lib\\site-packages (from -r ../requirements.txt (line 21)) (3.3.2)\n",
            "Requirement already satisfied: click==8.1.7 in c:\\users\\tobis\\appdata\\local\\programs\\python\\python312\\lib\\site-packages (from -r ../requirements.txt (line 22)) (8.1.7)\n",
            "Requirement already satisfied: colorama==0.4.6 in c:\\users\\tobis\\appdata\\local\\programs\\python\\python312\\lib\\site-packages (from -r ../requirements.txt (line 23)) (0.4.6)\n",
            "Requirement already satisfied: comm==0.2.2 in c:\\users\\tobis\\appdata\\roaming\\python\\python312\\site-packages (from -r ../requirements.txt (line 24)) (0.2.2)\n",
            "Requirement already satisfied: contourpy==1.2.0 in c:\\users\\tobis\\appdata\\local\\programs\\python\\python312\\lib\\site-packages (from -r ../requirements.txt (line 25)) (1.2.0)\n",
            "Requirement already satisfied: cycler==0.12.1 in c:\\users\\tobis\\appdata\\local\\programs\\python\\python312\\lib\\site-packages (from -r ../requirements.txt (line 26)) (0.12.1)\n",
            "Requirement already satisfied: debugpy==1.8.1 in c:\\users\\tobis\\appdata\\roaming\\python\\python312\\site-packages (from -r ../requirements.txt (line 27)) (1.8.1)\n",
            "Requirement already satisfied: decorator==5.1.1 in c:\\users\\tobis\\appdata\\roaming\\python\\python312\\site-packages (from -r ../requirements.txt (line 28)) (5.1.1)\n",
            "Requirement already satisfied: executing==2.0.1 in c:\\users\\tobis\\appdata\\roaming\\python\\python312\\site-packages (from -r ../requirements.txt (line 29)) (2.0.1)\n",
            "Requirement already satisfied: flatbuffers==24.3.25 in c:\\users\\tobis\\appdata\\local\\programs\\python\\python312\\lib\\site-packages (from -r ../requirements.txt (line 30)) (24.3.25)\n",
            "Requirement already satisfied: fonttools==4.50.0 in c:\\users\\tobis\\appdata\\local\\programs\\python\\python312\\lib\\site-packages (from -r ../requirements.txt (line 31)) (4.50.0)\n",
            "Requirement already satisfied: gast==0.5.4 in c:\\users\\tobis\\appdata\\local\\programs\\python\\python312\\lib\\site-packages (from -r ../requirements.txt (line 32)) (0.5.4)\n",
            "Requirement already satisfied: gitdb==4.0.11 in c:\\users\\tobis\\appdata\\local\\programs\\python\\python312\\lib\\site-packages (from -r ../requirements.txt (line 33)) (4.0.11)\n",
            "Requirement already satisfied: GitPython==3.1.43 in c:\\users\\tobis\\appdata\\local\\programs\\python\\python312\\lib\\site-packages (from -r ../requirements.txt (line 34)) (3.1.43)\n",
            "Requirement already satisfied: google-pasta==0.2.0 in c:\\users\\tobis\\appdata\\local\\programs\\python\\python312\\lib\\site-packages (from -r ../requirements.txt (line 35)) (0.2.0)\n",
            "Requirement already satisfied: grpcio==1.62.1 in c:\\users\\tobis\\appdata\\local\\programs\\python\\python312\\lib\\site-packages (from -r ../requirements.txt (line 36)) (1.62.1)\n",
            "Requirement already satisfied: h5py==3.10.0 in c:\\users\\tobis\\appdata\\local\\programs\\python\\python312\\lib\\site-packages (from -r ../requirements.txt (line 37)) (3.10.0)\n",
            "Requirement already satisfied: idna==3.6 in c:\\users\\tobis\\appdata\\local\\programs\\python\\python312\\lib\\site-packages (from -r ../requirements.txt (line 38)) (3.6)\n",
            "Requirement already satisfied: ipykernel==6.29.4 in c:\\users\\tobis\\appdata\\roaming\\python\\python312\\site-packages (from -r ../requirements.txt (line 39)) (6.29.4)\n",
            "Requirement already satisfied: ipython==8.23.0 in c:\\users\\tobis\\appdata\\roaming\\python\\python312\\site-packages (from -r ../requirements.txt (line 40)) (8.23.0)\n",
            "Requirement already satisfied: jedi==0.19.1 in c:\\users\\tobis\\appdata\\roaming\\python\\python312\\site-packages (from -r ../requirements.txt (line 41)) (0.19.1)\n",
            "Requirement already satisfied: Jinja2==3.1.3 in c:\\users\\tobis\\appdata\\local\\programs\\python\\python312\\lib\\site-packages (from -r ../requirements.txt (line 42)) (3.1.3)\n",
            "Requirement already satisfied: jsonschema==4.21.1 in c:\\users\\tobis\\appdata\\local\\programs\\python\\python312\\lib\\site-packages (from -r ../requirements.txt (line 43)) (4.21.1)\n",
            "Requirement already satisfied: jsonschema-specifications==2023.12.1 in c:\\users\\tobis\\appdata\\local\\programs\\python\\python312\\lib\\site-packages (from -r ../requirements.txt (line 44)) (2023.12.1)\n",
            "Requirement already satisfied: jupyter_client==8.6.1 in c:\\users\\tobis\\appdata\\roaming\\python\\python312\\site-packages (from -r ../requirements.txt (line 45)) (8.6.1)\n",
            "Requirement already satisfied: jupyter_core==5.7.2 in c:\\users\\tobis\\appdata\\roaming\\python\\python312\\site-packages (from -r ../requirements.txt (line 46)) (5.7.2)\n",
            "Requirement already satisfied: kiwisolver==1.4.5 in c:\\users\\tobis\\appdata\\local\\programs\\python\\python312\\lib\\site-packages (from -r ../requirements.txt (line 47)) (1.4.5)\n",
            "Requirement already satisfied: libclang==18.1.1 in c:\\users\\tobis\\appdata\\local\\programs\\python\\python312\\lib\\site-packages (from -r ../requirements.txt (line 48)) (18.1.1)\n",
            "Requirement already satisfied: Markdown==3.6 in c:\\users\\tobis\\appdata\\local\\programs\\python\\python312\\lib\\site-packages (from -r ../requirements.txt (line 49)) (3.6)\n",
            "Requirement already satisfied: markdown-it-py==3.0.0 in c:\\users\\tobis\\appdata\\local\\programs\\python\\python312\\lib\\site-packages (from -r ../requirements.txt (line 50)) (3.0.0)\n",
            "Requirement already satisfied: MarkupSafe==2.1.5 in c:\\users\\tobis\\appdata\\local\\programs\\python\\python312\\lib\\site-packages (from -r ../requirements.txt (line 51)) (2.1.5)\n",
            "Requirement already satisfied: matplotlib-inline==0.1.6 in c:\\users\\tobis\\appdata\\roaming\\python\\python312\\site-packages (from -r ../requirements.txt (line 52)) (0.1.6)\n",
            "Requirement already satisfied: mdurl==0.1.2 in c:\\users\\tobis\\appdata\\local\\programs\\python\\python312\\lib\\site-packages (from -r ../requirements.txt (line 53)) (0.1.2)\n",
            "Requirement already satisfied: ml-dtypes==0.3.2 in c:\\users\\tobis\\appdata\\local\\programs\\python\\python312\\lib\\site-packages (from -r ../requirements.txt (line 54)) (0.3.2)\n",
            "Requirement already satisfied: namex==0.0.7 in c:\\users\\tobis\\appdata\\local\\programs\\python\\python312\\lib\\site-packages (from -r ../requirements.txt (line 55)) (0.0.7)\n",
            "Requirement already satisfied: nest-asyncio==1.6.0 in c:\\users\\tobis\\appdata\\roaming\\python\\python312\\site-packages (from -r ../requirements.txt (line 56)) (1.6.0)\n",
            "Requirement already satisfied: opt-einsum==3.3.0 in c:\\users\\tobis\\appdata\\local\\programs\\python\\python312\\lib\\site-packages (from -r ../requirements.txt (line 57)) (3.3.0)\n",
            "Requirement already satisfied: optree==0.11.0 in c:\\users\\tobis\\appdata\\local\\programs\\python\\python312\\lib\\site-packages (from -r ../requirements.txt (line 58)) (0.11.0)\n",
            "Requirement already satisfied: packaging==23.2 in c:\\users\\tobis\\appdata\\local\\programs\\python\\python312\\lib\\site-packages (from -r ../requirements.txt (line 59)) (23.2)\n",
            "Requirement already satisfied: parso==0.8.3 in c:\\users\\tobis\\appdata\\roaming\\python\\python312\\site-packages (from -r ../requirements.txt (line 60)) (0.8.3)\n",
            "Requirement already satisfied: pillow==10.3.0 in c:\\users\\tobis\\appdata\\local\\programs\\python\\python312\\lib\\site-packages (from -r ../requirements.txt (line 61)) (10.3.0)\n",
            "Requirement already satisfied: platformdirs==4.2.0 in c:\\users\\tobis\\appdata\\roaming\\python\\python312\\site-packages (from -r ../requirements.txt (line 62)) (4.2.0)\n",
            "Requirement already satisfied: prompt-toolkit==3.0.43 in c:\\users\\tobis\\appdata\\roaming\\python\\python312\\site-packages (from -r ../requirements.txt (line 63)) (3.0.43)\n",
            "Requirement already satisfied: protobuf==4.25.3 in c:\\users\\tobis\\appdata\\local\\programs\\python\\python312\\lib\\site-packages (from -r ../requirements.txt (line 64)) (4.25.3)\n",
            "Requirement already satisfied: psutil==5.9.8 in c:\\users\\tobis\\appdata\\roaming\\python\\python312\\site-packages (from -r ../requirements.txt (line 65)) (5.9.8)\n",
            "Requirement already satisfied: pure-eval==0.2.2 in c:\\users\\tobis\\appdata\\roaming\\python\\python312\\site-packages (from -r ../requirements.txt (line 66)) (0.2.2)\n",
            "Requirement already satisfied: pyarrow==15.0.2 in c:\\users\\tobis\\appdata\\local\\programs\\python\\python312\\lib\\site-packages (from -r ../requirements.txt (line 67)) (15.0.2)\n",
            "Requirement already satisfied: pydeck==0.8.1b0 in c:\\users\\tobis\\appdata\\local\\programs\\python\\python312\\lib\\site-packages (from -r ../requirements.txt (line 68)) (0.8.1b0)\n",
            "Requirement already satisfied: Pygments==2.17.2 in c:\\users\\tobis\\appdata\\local\\programs\\python\\python312\\lib\\site-packages (from -r ../requirements.txt (line 69)) (2.17.2)\n",
            "Requirement already satisfied: pyparsing==3.1.2 in c:\\users\\tobis\\appdata\\local\\programs\\python\\python312\\lib\\site-packages (from -r ../requirements.txt (line 70)) (3.1.2)\n",
            "Requirement already satisfied: python-dateutil==2.9.0.post0 in c:\\users\\tobis\\appdata\\local\\programs\\python\\python312\\lib\\site-packages (from -r ../requirements.txt (line 71)) (2.9.0.post0)\n",
            "Requirement already satisfied: pytz==2024.1 in c:\\users\\tobis\\appdata\\local\\programs\\python\\python312\\lib\\site-packages (from -r ../requirements.txt (line 72)) (2024.1)\n",
            "Requirement already satisfied: pywin32==306 in c:\\users\\tobis\\appdata\\roaming\\python\\python312\\site-packages (from -r ../requirements.txt (line 73)) (306)\n",
            "Requirement already satisfied: pyzmq==25.1.2 in c:\\users\\tobis\\appdata\\roaming\\python\\python312\\site-packages (from -r ../requirements.txt (line 74)) (25.1.2)\n",
            "Requirement already satisfied: referencing==0.34.0 in c:\\users\\tobis\\appdata\\local\\programs\\python\\python312\\lib\\site-packages (from -r ../requirements.txt (line 75)) (0.34.0)\n",
            "Requirement already satisfied: requests==2.31.0 in c:\\users\\tobis\\appdata\\local\\programs\\python\\python312\\lib\\site-packages (from -r ../requirements.txt (line 76)) (2.31.0)\n",
            "Requirement already satisfied: rich==13.7.1 in c:\\users\\tobis\\appdata\\local\\programs\\python\\python312\\lib\\site-packages (from -r ../requirements.txt (line 77)) (13.7.1)\n",
            "Requirement already satisfied: rpds-py==0.18.0 in c:\\users\\tobis\\appdata\\local\\programs\\python\\python312\\lib\\site-packages (from -r ../requirements.txt (line 78)) (0.18.0)\n",
            "Requirement already satisfied: scipy==1.12.0 in c:\\users\\tobis\\appdata\\local\\programs\\python\\python312\\lib\\site-packages (from -r ../requirements.txt (line 79)) (1.12.0)\n",
            "Requirement already satisfied: setuptools==69.2.0 in c:\\users\\tobis\\appdata\\local\\programs\\python\\python312\\lib\\site-packages (from -r ../requirements.txt (line 80)) (69.2.0)\n",
            "Requirement already satisfied: six==1.16.0 in c:\\users\\tobis\\appdata\\local\\programs\\python\\python312\\lib\\site-packages (from -r ../requirements.txt (line 81)) (1.16.0)\n",
            "Requirement already satisfied: smmap==5.0.1 in c:\\users\\tobis\\appdata\\local\\programs\\python\\python312\\lib\\site-packages (from -r ../requirements.txt (line 82)) (5.0.1)\n",
            "Requirement already satisfied: stack-data==0.6.3 in c:\\users\\tobis\\appdata\\roaming\\python\\python312\\site-packages (from -r ../requirements.txt (line 83)) (0.6.3)\n",
            "Requirement already satisfied: tenacity==8.2.3 in c:\\users\\tobis\\appdata\\local\\programs\\python\\python312\\lib\\site-packages (from -r ../requirements.txt (line 84)) (8.2.3)\n",
            "Requirement already satisfied: tensorboard==2.16.2 in c:\\users\\tobis\\appdata\\local\\programs\\python\\python312\\lib\\site-packages (from -r ../requirements.txt (line 85)) (2.16.2)\n",
            "Requirement already satisfied: tensorboard-data-server==0.7.2 in c:\\users\\tobis\\appdata\\local\\programs\\python\\python312\\lib\\site-packages (from -r ../requirements.txt (line 86)) (0.7.2)\n",
            "Requirement already satisfied: termcolor==2.4.0 in c:\\users\\tobis\\appdata\\local\\programs\\python\\python312\\lib\\site-packages (from -r ../requirements.txt (line 87)) (2.4.0)\n",
            "Requirement already satisfied: threadpoolctl==3.4.0 in c:\\users\\tobis\\appdata\\local\\programs\\python\\python312\\lib\\site-packages (from -r ../requirements.txt (line 88)) (3.4.0)\n",
            "Requirement already satisfied: toml==0.10.2 in c:\\users\\tobis\\appdata\\local\\programs\\python\\python312\\lib\\site-packages (from -r ../requirements.txt (line 89)) (0.10.2)\n",
            "Requirement already satisfied: toolz==0.12.1 in c:\\users\\tobis\\appdata\\local\\programs\\python\\python312\\lib\\site-packages (from -r ../requirements.txt (line 90)) (0.12.1)\n",
            "Requirement already satisfied: tornado==6.4 in c:\\users\\tobis\\appdata\\local\\programs\\python\\python312\\lib\\site-packages (from -r ../requirements.txt (line 91)) (6.4)\n",
            "Requirement already satisfied: traitlets==5.14.2 in c:\\users\\tobis\\appdata\\roaming\\python\\python312\\site-packages (from -r ../requirements.txt (line 92)) (5.14.2)\n",
            "Requirement already satisfied: typing_extensions==4.10.0 in c:\\users\\tobis\\appdata\\local\\programs\\python\\python312\\lib\\site-packages (from -r ../requirements.txt (line 93)) (4.10.0)\n",
            "Requirement already satisfied: tzdata==2024.1 in c:\\users\\tobis\\appdata\\local\\programs\\python\\python312\\lib\\site-packages (from -r ../requirements.txt (line 94)) (2024.1)\n",
            "Requirement already satisfied: urllib3==2.2.1 in c:\\users\\tobis\\appdata\\local\\programs\\python\\python312\\lib\\site-packages (from -r ../requirements.txt (line 95)) (2.2.1)\n",
            "Requirement already satisfied: watchdog==4.0.0 in c:\\users\\tobis\\appdata\\local\\programs\\python\\python312\\lib\\site-packages (from -r ../requirements.txt (line 96)) (4.0.0)\n",
            "Requirement already satisfied: wcwidth==0.2.13 in c:\\users\\tobis\\appdata\\roaming\\python\\python312\\site-packages (from -r ../requirements.txt (line 97)) (0.2.13)\n",
            "Requirement already satisfied: Werkzeug==3.0.2 in c:\\users\\tobis\\appdata\\local\\programs\\python\\python312\\lib\\site-packages (from -r ../requirements.txt (line 98)) (3.0.2)\n",
            "Requirement already satisfied: wheel==0.43.0 in c:\\users\\tobis\\appdata\\local\\programs\\python\\python312\\lib\\site-packages (from -r ../requirements.txt (line 99)) (0.43.0)\n",
            "Requirement already satisfied: wrapt==1.16.0 in c:\\users\\tobis\\appdata\\local\\programs\\python\\python312\\lib\\site-packages (from -r ../requirements.txt (line 100)) (1.16.0)\n",
            "Note: you may need to restart the kernel to use updated packages.\n"
          ]
        }
      ],
      "source": [
        "%pip install -r ../requirements.txt"
      ]
    },
    {
      "cell_type": "markdown",
      "metadata": {
        "id": "cqP-UeN-z3i2"
      },
      "source": [
        "## Change working directory"
      ]
    },
    {
      "cell_type": "markdown",
      "metadata": {},
      "source": [
        "* We are assuming you will store the notebooks in a subfolder, therefore when running the notebook in the editor, you will need to change the working directory"
      ]
    },
    {
      "cell_type": "markdown",
      "metadata": {
        "id": "aOGIGS-uz3i2"
      },
      "source": [
        "We need to change the working directory from its current folder to its parent folder\n",
        "* We access the current directory with os.getcwd()"
      ]
    },
    {
      "cell_type": "code",
      "execution_count": 2,
      "metadata": {
        "id": "wZfF_j-Bz3i4",
        "outputId": "66943449-1436-4c3d-85c7-b85f9f78349b"
      },
      "outputs": [
        {
          "data": {
            "text/plain": [
              "'c:\\\\Users\\\\tobis\\\\Documents\\\\GitHub\\\\ml-brain-tumor-detection\\\\jupyter_notebooks'"
            ]
          },
          "execution_count": 2,
          "metadata": {},
          "output_type": "execute_result"
        }
      ],
      "source": [
        "import os\n",
        "current_dir = os.getcwd()\n",
        "current_dir"
      ]
    },
    {
      "cell_type": "markdown",
      "metadata": {
        "id": "9MWW8E7lz3i7"
      },
      "source": [
        "We want to make the parent of the current directory the new current directory\n",
        "* os.path.dirname() gets the parent directory\n",
        "* os.chir() defines the new current directory"
      ]
    },
    {
      "cell_type": "code",
      "execution_count": 3,
      "metadata": {
        "id": "TwHsQRWjz3i9",
        "outputId": "86849db3-cd2f-4cc5-ebb8-2d0caafa1a2c"
      },
      "outputs": [
        {
          "name": "stdout",
          "output_type": "stream",
          "text": [
            "You set a new current directory\n"
          ]
        }
      ],
      "source": [
        "os.chdir(os.path.dirname(current_dir))\n",
        "print(\"You set a new current directory\")"
      ]
    },
    {
      "cell_type": "markdown",
      "metadata": {
        "id": "M_xPk_Ijz3i-"
      },
      "source": [
        "Confirm the new current directory"
      ]
    },
    {
      "cell_type": "code",
      "execution_count": 4,
      "metadata": {
        "id": "vz3S-_kjz3jA",
        "outputId": "00b79ae4-75d0-4a96-d193-ac9ef9847ea2"
      },
      "outputs": [
        {
          "data": {
            "text/plain": [
              "'c:\\\\Users\\\\tobis\\\\Documents\\\\GitHub\\\\ml-brain-tumor-detection'"
            ]
          },
          "execution_count": 4,
          "metadata": {},
          "output_type": "execute_result"
        }
      ],
      "source": [
        "current_dir = os.getcwd()\n",
        "current_dir"
      ]
    },
    {
      "cell_type": "markdown",
      "metadata": {
        "id": "-mavJ8DibrcQ"
      },
      "source": [
        "## Get data from Kaggle"
      ]
    },
    {
      "cell_type": "markdown",
      "metadata": {},
      "source": [
        "**Install Kaggle**"
      ]
    },
    {
      "cell_type": "code",
      "execution_count": 5,
      "metadata": {},
      "outputs": [
        {
          "name": "stdout",
          "output_type": "stream",
          "text": [
            "Requirement already satisfied: kaggle==1.6.8 in c:\\users\\tobis\\appdata\\local\\programs\\python\\python312\\lib\\site-packages (1.6.8)\n",
            "Requirement already satisfied: six>=1.10 in c:\\users\\tobis\\appdata\\local\\programs\\python\\python312\\lib\\site-packages (from kaggle==1.6.8) (1.16.0)\n",
            "Requirement already satisfied: certifi>=2023.7.22 in c:\\users\\tobis\\appdata\\local\\programs\\python\\python312\\lib\\site-packages (from kaggle==1.6.8) (2024.2.2)\n",
            "Requirement already satisfied: python-dateutil in c:\\users\\tobis\\appdata\\local\\programs\\python\\python312\\lib\\site-packages (from kaggle==1.6.8) (2.9.0.post0)\n",
            "Requirement already satisfied: requests in c:\\users\\tobis\\appdata\\local\\programs\\python\\python312\\lib\\site-packages (from kaggle==1.6.8) (2.31.0)\n",
            "Requirement already satisfied: tqdm in c:\\users\\tobis\\appdata\\local\\programs\\python\\python312\\lib\\site-packages (from kaggle==1.6.8) (4.66.2)\n",
            "Requirement already satisfied: python-slugify in c:\\users\\tobis\\appdata\\local\\programs\\python\\python312\\lib\\site-packages (from kaggle==1.6.8) (8.0.4)\n",
            "Requirement already satisfied: urllib3 in c:\\users\\tobis\\appdata\\local\\programs\\python\\python312\\lib\\site-packages (from kaggle==1.6.8) (2.2.1)\n",
            "Requirement already satisfied: bleach in c:\\users\\tobis\\appdata\\local\\programs\\python\\python312\\lib\\site-packages (from kaggle==1.6.8) (6.1.0)\n",
            "Requirement already satisfied: webencodings in c:\\users\\tobis\\appdata\\local\\programs\\python\\python312\\lib\\site-packages (from bleach->kaggle==1.6.8) (0.5.1)\n",
            "Requirement already satisfied: text-unidecode>=1.3 in c:\\users\\tobis\\appdata\\local\\programs\\python\\python312\\lib\\site-packages (from python-slugify->kaggle==1.6.8) (1.3)\n",
            "Requirement already satisfied: charset-normalizer<4,>=2 in c:\\users\\tobis\\appdata\\local\\programs\\python\\python312\\lib\\site-packages (from requests->kaggle==1.6.8) (3.3.2)\n",
            "Requirement already satisfied: idna<4,>=2.5 in c:\\users\\tobis\\appdata\\local\\programs\\python\\python312\\lib\\site-packages (from requests->kaggle==1.6.8) (3.6)\n",
            "Requirement already satisfied: colorama in c:\\users\\tobis\\appdata\\local\\programs\\python\\python312\\lib\\site-packages (from tqdm->kaggle==1.6.8) (0.4.6)\n",
            "Note: you may need to restart the kernel to use updated packages.\n"
          ]
        }
      ],
      "source": [
        "%pip install kaggle==1.6.8"
      ]
    },
    {
      "cell_type": "markdown",
      "metadata": {},
      "source": [
        "**Change the Kaggle configuration directory to the current working directory and set permissions for the Kaggle authentication JSON**"
      ]
    },
    {
      "cell_type": "code",
      "execution_count": 6,
      "metadata": {},
      "outputs": [],
      "source": [
        "os.environ['KAGGLE_CONFIG_DIR'] = os.getcwd()\n",
        "os.chmod(\"kaggle.json\", 0o600)"
      ]
    },
    {
      "cell_type": "markdown",
      "metadata": {},
      "source": [
        "**Set the kaggle dataset and download it**"
      ]
    },
    {
      "cell_type": "code",
      "execution_count": 7,
      "metadata": {},
      "outputs": [
        {
          "name": "stdout",
          "output_type": "stream",
          "text": [
            "Downloading brain-tumor-classification-mri.zip to input\n",
            "\n"
          ]
        },
        {
          "name": "stderr",
          "output_type": "stream",
          "text": [
            "\n",
            "  0%|          | 0.00/86.8M [00:00<?, ?B/s]\n",
            "  1%|          | 1.00M/86.8M [00:00<00:55, 1.63MB/s]\n",
            "  2%|▏         | 2.00M/86.8M [00:00<00:29, 2.96MB/s]\n",
            "  5%|▍         | 4.00M/86.8M [00:00<00:15, 5.45MB/s]\n",
            "  6%|▌         | 5.00M/86.8M [00:01<00:13, 6.39MB/s]\n",
            "  8%|▊         | 7.00M/86.8M [00:01<00:10, 8.00MB/s]\n",
            " 10%|█         | 9.00M/86.8M [00:01<00:10, 7.47MB/s]\n",
            " 12%|█▏        | 10.0M/86.8M [00:01<00:10, 7.97MB/s]\n",
            " 14%|█▍        | 12.0M/86.8M [00:01<00:08, 8.94MB/s]\n",
            " 16%|█▌        | 14.0M/86.8M [00:02<00:07, 9.61MB/s]\n",
            " 18%|█▊        | 16.0M/86.8M [00:02<00:07, 10.2MB/s]\n",
            " 21%|██        | 18.0M/86.8M [00:02<00:06, 10.7MB/s]\n",
            " 23%|██▎       | 20.0M/86.8M [00:02<00:06, 10.5MB/s]\n",
            " 25%|██▌       | 22.0M/86.8M [00:02<00:06, 9.80MB/s]\n",
            " 28%|██▊       | 24.0M/86.8M [00:03<00:07, 9.31MB/s]\n",
            " 30%|██▉       | 26.0M/86.8M [00:03<00:06, 10.3MB/s]\n",
            " 32%|███▏      | 28.0M/86.8M [00:03<00:05, 11.2MB/s]\n",
            " 35%|███▍      | 30.0M/86.8M [00:03<00:05, 9.99MB/s]\n",
            " 37%|███▋      | 32.0M/86.8M [00:03<00:05, 9.93MB/s]\n",
            " 39%|███▉      | 34.0M/86.8M [00:04<00:05, 10.2MB/s]\n",
            " 41%|████▏     | 36.0M/86.8M [00:04<00:04, 11.1MB/s]\n",
            " 44%|████▍     | 38.0M/86.8M [00:04<00:04, 10.6MB/s]\n",
            " 46%|████▌     | 40.0M/86.8M [00:04<00:04, 11.8MB/s]\n",
            " 48%|████▊     | 42.0M/86.8M [00:04<00:04, 10.9MB/s]\n",
            " 51%|█████     | 44.0M/86.8M [00:05<00:04, 10.6MB/s]\n",
            " 53%|█████▎    | 46.0M/86.8M [00:06<00:10, 4.22MB/s]\n",
            " 54%|█████▍    | 47.0M/86.8M [00:06<00:09, 4.61MB/s]\n",
            " 56%|█████▋    | 49.0M/86.8M [00:06<00:06, 5.96MB/s]\n",
            " 58%|█████▊    | 50.0M/86.8M [00:06<00:06, 6.43MB/s]\n",
            " 60%|█████▉    | 52.0M/86.8M [00:06<00:04, 8.13MB/s]\n",
            " 62%|██████▏   | 54.0M/86.8M [00:06<00:03, 9.48MB/s]\n",
            " 65%|██████▍   | 56.0M/86.8M [00:07<00:05, 5.94MB/s]\n",
            " 66%|██████▌   | 57.0M/86.8M [00:07<00:05, 6.17MB/s]\n",
            " 67%|██████▋   | 58.0M/86.8M [00:07<00:04, 6.74MB/s]\n",
            " 69%|██████▉   | 60.0M/86.8M [00:07<00:03, 7.80MB/s]\n",
            " 71%|███████▏  | 62.0M/86.8M [00:08<00:02, 9.74MB/s]\n",
            " 74%|███████▎  | 64.0M/86.8M [00:08<00:02, 9.61MB/s]\n",
            " 77%|███████▋  | 67.0M/86.8M [00:08<00:01, 11.8MB/s]\n",
            " 80%|███████▉  | 69.0M/86.8M [00:08<00:01, 11.1MB/s]\n",
            " 82%|████████▏ | 71.0M/86.8M [00:08<00:01, 11.0MB/s]\n",
            " 84%|████████▍ | 73.0M/86.8M [00:09<00:01, 12.7MB/s]\n",
            " 86%|████████▋ | 75.0M/86.8M [00:09<00:00, 13.8MB/s]\n",
            " 89%|████████▊ | 77.0M/86.8M [00:09<00:00, 14.2MB/s]\n",
            " 91%|█████████ | 79.0M/86.8M [00:09<00:00, 15.3MB/s]\n",
            " 94%|█████████▍| 82.0M/86.8M [00:10<00:00, 5.03MB/s]\n",
            " 97%|█████████▋| 84.0M/86.8M [00:10<00:00, 6.30MB/s]\n",
            "100%|██████████| 86.8M/86.8M [00:10<00:00, 8.07MB/s]\n",
            "100%|██████████| 86.8M/86.8M [00:10<00:00, 8.32MB/s]\n"
          ]
        }
      ],
      "source": [
        "KaggleDatasetPath = \"sartajbhuvaji/brain-tumor-classification-mri\"\n",
        "DestinationFolder = \"input/\"   \n",
        "! kaggle datasets download -d {KaggleDatasetPath} -p {DestinationFolder}"
      ]
    },
    {
      "cell_type": "markdown",
      "metadata": {},
      "source": [
        "**Unzip the file and delete the zip folder.**"
      ]
    },
    {
      "cell_type": "code",
      "execution_count": 8,
      "metadata": {},
      "outputs": [],
      "source": [
        "import zipfile\n",
        "with zipfile.ZipFile(DestinationFolder + '/brain-tumor-classification-mri.zip', 'r') as zip_ref:\n",
        "    zip_ref.extractall(DestinationFolder)\n",
        "\n",
        "os.remove(DestinationFolder + '/brain-tumor-classification-mri.zip')"
      ]
    },
    {
      "cell_type": "markdown",
      "metadata": {
        "id": "ZY3l0-AxO93d"
      },
      "source": [
        "---"
      ]
    },
    {
      "cell_type": "markdown",
      "metadata": {
        "id": "uFQo3ycuO-v6"
      },
      "source": [
        "## Prepare the Data"
      ]
    },
    {
      "cell_type": "markdown",
      "metadata": {},
      "source": [
        "**Create folder structure**"
      ]
    },
    {
      "cell_type": "code",
      "execution_count": 9,
      "metadata": {},
      "outputs": [],
      "source": [
        "import shutil"
      ]
    },
    {
      "cell_type": "code",
      "execution_count": 10,
      "metadata": {},
      "outputs": [],
      "source": [
        "testing_folder = 'input/Testing'\n",
        "training_folder = 'input/Training'\n",
        "parent_folder = 'input'"
      ]
    },
    {
      "cell_type": "code",
      "execution_count": 11,
      "metadata": {},
      "outputs": [],
      "source": [
        "def create_folder_structure(parent_folder):\n",
        "    brain_mri_scans_folder = os.path.join(parent_folder, 'brain-mri-scans')\n",
        "    os.makedirs(brain_mri_scans_folder, exist_ok=True)\n",
        "    \n",
        "    tumor_folder = os.path.join(brain_mri_scans_folder, 'tumor')\n",
        "    no_tumor_folder = os.path.join(brain_mri_scans_folder, 'no_tumor')\n",
        "    os.makedirs(tumor_folder, exist_ok=True)\n",
        "    os.makedirs(no_tumor_folder, exist_ok=True)\n",
        "\n",
        "create_folder_structure(parent_folder)"
      ]
    },
    {
      "cell_type": "markdown",
      "metadata": {},
      "source": [
        "**Merge pre-split folders (no_tumor)**"
      ]
    },
    {
      "cell_type": "code",
      "execution_count": 12,
      "metadata": {},
      "outputs": [],
      "source": [
        "def move_and_rename_no_tumor_images(testing_folder, training_folder, parent_folder):\n",
        "    no_tumor_destination = os.path.join(parent_folder, 'brain-mri-scans', 'no_tumor')\n",
        "    \n",
        "    counter = 1\n",
        "    \n",
        "    def rename_file(file_path):\n",
        "        nonlocal counter\n",
        "        file_name, file_ext = os.path.splitext(file_path)\n",
        "        new_file_name = f'no_tumor_{counter}{file_ext}'\n",
        "        os.rename(file_path, os.path.join(os.path.dirname(file_path), new_file_name))\n",
        "        counter += 1\n",
        "    \n",
        "    testing_no_tumor_folder = os.path.join(testing_folder, 'no_tumor')\n",
        "    if os.path.exists(testing_no_tumor_folder):\n",
        "        for file in os.listdir(testing_no_tumor_folder):\n",
        "            source_file_path = os.path.join(testing_no_tumor_folder, file)\n",
        "            shutil.move(source_file_path, no_tumor_destination)\n",
        "            rename_file(os.path.join(no_tumor_destination, file))\n",
        "    \n",
        "    training_no_tumor_folder = os.path.join(training_folder, 'no_tumor')\n",
        "    if os.path.exists(training_no_tumor_folder):\n",
        "        for file in os.listdir(training_no_tumor_folder):\n",
        "            source_file_path = os.path.join(training_no_tumor_folder, file)\n",
        "            shutil.move(source_file_path, no_tumor_destination)\n",
        "            rename_file(os.path.join(no_tumor_destination, file))\n",
        "\n",
        "move_and_rename_no_tumor_images(testing_folder, training_folder, parent_folder)"
      ]
    },
    {
      "cell_type": "markdown",
      "metadata": {},
      "source": [
        "**Merge pre-split folders (glioma_tumor)**"
      ]
    },
    {
      "cell_type": "code",
      "execution_count": 13,
      "metadata": {},
      "outputs": [],
      "source": [
        "def move_and_rename_glioma_tumor_images(testing_folder, training_folder, parent_folder):\n",
        "    no_tumor_destination = os.path.join(parent_folder, 'brain-mri-scans', 'tumor')\n",
        "    \n",
        "    counter = 1\n",
        "    \n",
        "    def rename_file_glioma(file_path):\n",
        "        nonlocal counter\n",
        "        file_name, file_ext = os.path.splitext(file_path)\n",
        "        new_file_name = f'glioma_{counter}{file_ext}'\n",
        "        os.rename(file_path, os.path.join(os.path.dirname(file_path), new_file_name))\n",
        "        counter += 1\n",
        "    \n",
        "    testing_glioma_tumor_folder = os.path.join(testing_folder, 'glioma_tumor')\n",
        "    if os.path.exists(testing_glioma_tumor_folder):\n",
        "        for file in os.listdir(testing_glioma_tumor_folder):\n",
        "            source_file_path = os.path.join(testing_glioma_tumor_folder, file)\n",
        "            shutil.move(source_file_path, no_tumor_destination)\n",
        "            rename_file_glioma(os.path.join(no_tumor_destination, file))\n",
        "    \n",
        "    training_glioma_tumor_folder = os.path.join(training_folder, 'glioma_tumor')\n",
        "    if os.path.exists(training_glioma_tumor_folder):\n",
        "        for file in os.listdir(training_glioma_tumor_folder):\n",
        "            source_file_path = os.path.join(training_glioma_tumor_folder, file)\n",
        "            shutil.move(source_file_path, no_tumor_destination)\n",
        "            rename_file_glioma(os.path.join(no_tumor_destination, file))\n",
        "\n",
        "move_and_rename_glioma_tumor_images(testing_folder, training_folder, parent_folder)"
      ]
    },
    {
      "cell_type": "markdown",
      "metadata": {},
      "source": [
        "**Merge pre-split folders (meningioma_tumor)**"
      ]
    },
    {
      "cell_type": "code",
      "execution_count": 14,
      "metadata": {},
      "outputs": [],
      "source": [
        "def move_and_rename_meningioma_tumor_images(testing_folder, training_folder, parent_folder):\n",
        "    no_tumor_destination = os.path.join(parent_folder, 'brain-mri-scans', 'tumor')\n",
        "    \n",
        "    counter = 1\n",
        "    \n",
        "    def rename_file_meningioma(file_path):\n",
        "        nonlocal counter\n",
        "        file_name, file_ext = os.path.splitext(file_path)\n",
        "        new_file_name = f'meningioma_{counter}{file_ext}'\n",
        "        os.rename(file_path, os.path.join(os.path.dirname(file_path), new_file_name))\n",
        "        counter += 1\n",
        "    \n",
        "    testing_meningioma_tumor_folder = os.path.join(testing_folder, 'meningioma_tumor')\n",
        "    if os.path.exists(testing_meningioma_tumor_folder):\n",
        "        for file in os.listdir(testing_meningioma_tumor_folder):\n",
        "            source_file_path = os.path.join(testing_meningioma_tumor_folder, file)\n",
        "            shutil.move(source_file_path, no_tumor_destination)\n",
        "            rename_file_meningioma(os.path.join(no_tumor_destination, file))\n",
        "    \n",
        "    training_meningioma_tumor_folder = os.path.join(training_folder, 'meningioma_tumor')\n",
        "    if os.path.exists(training_meningioma_tumor_folder):\n",
        "        for file in os.listdir(training_meningioma_tumor_folder):\n",
        "            source_file_path = os.path.join(training_meningioma_tumor_folder, file)\n",
        "            shutil.move(source_file_path, no_tumor_destination)\n",
        "            rename_file_meningioma(os.path.join(no_tumor_destination, file))\n",
        "\n",
        "move_and_rename_meningioma_tumor_images(testing_folder, training_folder, parent_folder)"
      ]
    },
    {
      "cell_type": "markdown",
      "metadata": {},
      "source": [
        "**Merge pre-split folders (pituitary_tumor)**"
      ]
    },
    {
      "cell_type": "code",
      "execution_count": 15,
      "metadata": {},
      "outputs": [],
      "source": [
        "def move_and_rename_pituitary_tumor_images(testing_folder, training_folder, parent_folder):\n",
        "    no_tumor_destination = os.path.join(parent_folder, 'brain-mri-scans', 'tumor')\n",
        "    \n",
        "    counter = 1\n",
        "    \n",
        "    def rename_file_pituitary(file_path):\n",
        "        nonlocal counter\n",
        "        file_name, file_ext = os.path.splitext(file_path)\n",
        "        new_file_name = f'pituitary_{counter}{file_ext}'\n",
        "        os.rename(file_path, os.path.join(os.path.dirname(file_path), new_file_name))\n",
        "        counter += 1\n",
        "    \n",
        "    testing_pituitary_tumor_folder = os.path.join(testing_folder, 'pituitary_tumor')\n",
        "    if os.path.exists(testing_pituitary_tumor_folder):\n",
        "        for file in os.listdir(testing_pituitary_tumor_folder):\n",
        "            source_file_path = os.path.join(testing_pituitary_tumor_folder, file)\n",
        "            shutil.move(source_file_path, no_tumor_destination)\n",
        "            rename_file_pituitary(os.path.join(no_tumor_destination, file))\n",
        "    \n",
        "    training_pituitary_tumor_folder = os.path.join(training_folder, 'pituitary_tumor')\n",
        "    if os.path.exists(training_pituitary_tumor_folder):\n",
        "        for file in os.listdir(training_pituitary_tumor_folder):\n",
        "            source_file_path = os.path.join(training_pituitary_tumor_folder, file)\n",
        "            shutil.move(source_file_path, no_tumor_destination)\n",
        "            rename_file_pituitary(os.path.join(no_tumor_destination, file))\n",
        "\n",
        "move_and_rename_pituitary_tumor_images(testing_folder, training_folder, parent_folder)"
      ]
    },
    {
      "cell_type": "markdown",
      "metadata": {},
      "source": [
        "**Delete existing \"Testing\" and \"Training\" folder from input**"
      ]
    },
    {
      "cell_type": "code",
      "execution_count": 16,
      "metadata": {},
      "outputs": [],
      "source": [
        "def delete_testing_and_training_folders(testing_folder, training_folder):\n",
        "    if os.path.exists(testing_folder):\n",
        "        shutil.rmtree(testing_folder)\n",
        "    if os.path.exists(training_folder):\n",
        "        shutil.rmtree(training_folder)\n",
        "\n",
        "delete_testing_and_training_folders(testing_folder, training_folder)"
      ]
    },
    {
      "cell_type": "code",
      "execution_count": 20,
      "metadata": {},
      "outputs": [
        {
          "name": "stderr",
          "output_type": "stream",
          "text": [
            "Der Befehl \"rm\" ist entweder falsch geschrieben oder\n",
            "konnte nicht gefunden werden.\n",
            "Der Befehl \"rm\" ist entweder falsch geschrieben oder\n",
            "konnte nicht gefunden werden.\n"
          ]
        }
      ],
      "source": [
        "! del input/*.csv\n",
        "! del -rf input/mri-brain-tumor"
      ]
    },
    {
      "cell_type": "code",
      "execution_count": 19,
      "metadata": {},
      "outputs": [
        {
          "data": {
            "text/plain": [
              "['no_tumor', 'tumor']"
            ]
          },
          "execution_count": 19,
          "metadata": {},
          "output_type": "execute_result"
        }
      ],
      "source": [
        "os.listdir('input/brain-mri-scans')"
      ]
    },
    {
      "cell_type": "markdown",
      "metadata": {},
      "source": [
        "---"
      ]
    },
    {
      "cell_type": "markdown",
      "metadata": {},
      "source": []
    },
    {
      "cell_type": "markdown",
      "metadata": {},
      "source": [
        "NOTE"
      ]
    },
    {
      "cell_type": "markdown",
      "metadata": {},
      "source": [
        "* You may add as many sections as you want, as long as it supports your project workflow.\n",
        "* All notebook's cells should be run top-down (you can't create a dynamic wherein a given point you need to go back to a previous cell to execute some task, like go back to a previous cell and refresh a variable content)"
      ]
    },
    {
      "cell_type": "markdown",
      "metadata": {},
      "source": [
        "---"
      ]
    },
    {
      "cell_type": "markdown",
      "metadata": {
        "id": "ltNetd085qHf"
      },
      "source": [
        "# Push files to Repo"
      ]
    },
    {
      "cell_type": "markdown",
      "metadata": {},
      "source": [
        "* In case you don't need to push files to Repo, you may replace this section with \"Conclusions and Next Steps\" and state your conclusions and next steps."
      ]
    },
    {
      "cell_type": "code",
      "execution_count": 17,
      "metadata": {
        "id": "aKlnIozA4eQO",
        "outputId": "fd09bc1f-adb1-4511-f6ce-492a6af570c0"
      },
      "outputs": [
        {
          "ename": "IndentationError",
          "evalue": "expected an indented block after 'try' statement on line 2 (2852421808.py, line 5)",
          "output_type": "error",
          "traceback": [
            "\u001b[1;36m  Cell \u001b[1;32mIn[17], line 5\u001b[1;36m\u001b[0m\n\u001b[1;33m    except Exception as e:\u001b[0m\n\u001b[1;37m    ^\u001b[0m\n\u001b[1;31mIndentationError\u001b[0m\u001b[1;31m:\u001b[0m expected an indented block after 'try' statement on line 2\n"
          ]
        }
      ],
      "source": [
        "import os\n",
        "try:\n",
        "  # create here your folder\n",
        "  # os.makedirs(name='')\n",
        "except Exception as e:\n",
        "  print(e)\n"
      ]
    }
  ],
  "metadata": {
    "accelerator": "GPU",
    "colab": {
      "name": "Data Practitioner Jupyter Notebook.ipynb",
      "provenance": [],
      "toc_visible": true
    },
    "interpreter": {
      "hash": "8b8334dab9339717f727a1deaf837b322d7a41c20d15cc86be99a8e69ceec8ce"
    },
    "kernelspec": {
      "display_name": "Python 3.8.12 64-bit ('3.8.12': pyenv)",
      "name": "python3"
    },
    "language_info": {
      "codemirror_mode": {
        "name": "ipython",
        "version": 3
      },
      "file_extension": ".py",
      "mimetype": "text/x-python",
      "name": "python",
      "nbconvert_exporter": "python",
      "pygments_lexer": "ipython3",
      "version": "3.12.0"
    },
    "orig_nbformat": 2
  },
  "nbformat": 4,
  "nbformat_minor": 2
}

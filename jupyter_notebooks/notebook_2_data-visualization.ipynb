{
  "cells": [
    {
      "cell_type": "markdown",
      "metadata": {},
      "source": [
        "# PP5 - ML Brain Tumor Detector"
      ]
    },
    {
      "cell_type": "markdown",
      "metadata": {},
      "source": [
        "## Notebook 2 - Data Visualization"
      ]
    },
    {
      "cell_type": "markdown",
      "metadata": {},
      "source": [
        "### Objectives\n",
        "\n",
        "* Fetch data from kaggle and prepare data for further processes.\n",
        "\n",
        "\n",
        "### Inputs\n",
        "\n",
        "* \n",
        "\n",
        "\n",
        "### Outputs\n",
        "\n",
        "| **output**      |          |       |\n",
        "|-----------------|----------|-------|\n",
        "| **train/**      | no_tumor | tumor |\n",
        "| **test/**       | no_tumor | tumor |\n",
        "| **validation/** | no_tumor | tumor |\n",
        "\n",
        "\n",
        "### Additional Comments\n",
        "\n",
        "* Dataset: [Kaggle](https://www.kaggle.com/datasets/sartajbhuvaji/brain-tumor-classification-mri?select=Training)\n",
        "* License: [MIT](https://www.mit.edu/~amini/LICENSE.md)"
      ]
    }
  ],
  "metadata": {
    "accelerator": "GPU",
    "colab": {
      "name": "Data Practitioner Jupyter Notebook.ipynb",
      "provenance": [],
      "toc_visible": true
    },
    "interpreter": {
      "hash": "8b8334dab9339717f727a1deaf837b322d7a41c20d15cc86be99a8e69ceec8ce"
    },
    "kernelspec": {
      "display_name": "Python 3.8.12 64-bit ('3.8.12': pyenv)",
      "name": "python3"
    },
    "language_info": {
      "codemirror_mode": {
        "name": "ipython",
        "version": 3
      },
      "file_extension": ".py",
      "mimetype": "text/x-python",
      "name": "python",
      "nbconvert_exporter": "python",
      "pygments_lexer": "ipython3",
      "version": "3.12.0"
    },
    "orig_nbformat": 2
  },
  "nbformat": 4,
  "nbformat_minor": 2
}

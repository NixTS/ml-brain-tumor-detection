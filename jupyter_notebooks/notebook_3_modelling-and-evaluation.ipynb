{
  "cells": [
    {
      "cell_type": "markdown",
      "metadata": {},
      "source": [
        "# PP5 - ML Brain Tumor Detector"
      ]
    },
    {
      "cell_type": "markdown",
      "metadata": {},
      "source": [
        "## Notebook 3 - Modelling and Evaluation"
      ]
    },
    {
      "cell_type": "markdown",
      "metadata": {},
      "source": [
        "### Objectives\n",
        "\n",
        "\n",
        "\n",
        "### Inputs\n",
        "\n",
        "| **input**      |          |       |\n",
        "|-----------------|----------|-------|\n",
        "| **train/**      | no_tumor | tumor |\n",
        "| **test/**       | no_tumor | tumor |\n",
        "| **validation/** | no_tumor | tumor |\n",
        "\n",
        "\n",
        "### Outputs\n",
        "\n",
        "\n",
        "\n",
        "\n",
        "### Additional Comments\n",
        "\n",
        "* Dataset: [Kaggle](https://www.kaggle.com/datasets/sartajbhuvaji/brain-tumor-classification-mri?select=Training)\n",
        "* License: [MIT](https://www.mit.edu/~amini/LICENSE.md)"
      ]
    },
    {
      "cell_type": "markdown",
      "metadata": {},
      "source": [
        "---"
      ]
    },
    {
      "cell_type": "markdown",
      "metadata": {},
      "source": [
        "## Set Data Directory"
      ]
    },
    {
      "cell_type": "markdown",
      "metadata": {},
      "source": [
        "### Import Libraries"
      ]
    },
    {
      "cell_type": "code",
      "execution_count": 1,
      "metadata": {},
      "outputs": [],
      "source": [
        "import os\n",
        "import pandas as pd\n",
        "import numpy as np\n",
        "import matplotlib.pyplot as plt\n",
        "import seaborn as sns\n",
        "import joblib\n",
        "sns.set_style(\"white\")\n",
        "from matplotlib.image import imread"
      ]
    },
    {
      "cell_type": "markdown",
      "metadata": {},
      "source": [
        "### Set Working Directory"
      ]
    },
    {
      "cell_type": "code",
      "execution_count": 2,
      "metadata": {},
      "outputs": [],
      "source": [
        "cwd= os.getcwd()"
      ]
    },
    {
      "cell_type": "code",
      "execution_count": 3,
      "metadata": {},
      "outputs": [
        {
          "data": {
            "text/plain": [
              "'c:\\\\Users\\\\tobis\\\\Documents\\\\GitHub\\\\ml-brain-tumor-detection\\\\jupyter_notebooks'"
            ]
          },
          "execution_count": 3,
          "metadata": {},
          "output_type": "execute_result"
        }
      ],
      "source": [
        "current_dir = os.getcwd()\n",
        "current_dir"
      ]
    },
    {
      "cell_type": "code",
      "execution_count": 4,
      "metadata": {},
      "outputs": [
        {
          "name": "stdout",
          "output_type": "stream",
          "text": [
            "New directory set!\n"
          ]
        }
      ],
      "source": [
        "os.chdir(os.path.dirname(current_dir))\n",
        "print(\"New directory set!\")"
      ]
    },
    {
      "cell_type": "code",
      "execution_count": 5,
      "metadata": {},
      "outputs": [
        {
          "data": {
            "text/plain": [
              "'c:\\\\Users\\\\tobis\\\\Documents\\\\GitHub\\\\ml-brain-tumor-detection'"
            ]
          },
          "execution_count": 5,
          "metadata": {},
          "output_type": "execute_result"
        }
      ],
      "source": [
        "working_dir = os.getcwd()\n",
        "working_dir"
      ]
    },
    {
      "cell_type": "markdown",
      "metadata": {},
      "source": [
        "### Set Input Directory"
      ]
    },
    {
      "cell_type": "code",
      "execution_count": 6,
      "metadata": {},
      "outputs": [
        {
          "name": "stdout",
          "output_type": "stream",
          "text": [
            "Train Set Path: input/brain-mri-scans/train\n",
            "Validation Set Path: input/brain-mri-scans/validation\n",
            "Test Set Path: input/brain-mri-scans/test\n"
          ]
        }
      ],
      "source": [
        "data_dir= 'input/brain-mri-scans'\n",
        "train_path = data_dir + '/train'\n",
        "val_path = data_dir + '/validation'\n",
        "test_path = data_dir + '/test'\n",
        "print(f\"Train Set Path: {train_path}\")\n",
        "print(f\"Validation Set Path: {val_path}\")\n",
        "print(f\"Test Set Path: {test_path}\")\n"
      ]
    },
    {
      "cell_type": "markdown",
      "metadata": {},
      "source": [
        "### Set Output Directory"
      ]
    },
    {
      "cell_type": "code",
      "execution_count": 7,
      "metadata": {},
      "outputs": [
        {
          "name": "stdout",
          "output_type": "stream",
          "text": [
            "Old version is already available create a new version.\n",
            "outputs/v1\n"
          ]
        }
      ],
      "source": [
        "version = 'v1'\n",
        "file_path = f'outputs/{version}'\n",
        "\n",
        "if 'outputs' in os.listdir(working_dir) and version in os.listdir(working_dir + '/outputs'):\n",
        "    print('Old version is already available create a new version.')\n",
        "    pass\n",
        "else:\n",
        "    os.makedirs(name=file_path)\n",
        "\n",
        "print(file_path)"
      ]
    },
    {
      "cell_type": "markdown",
      "metadata": {},
      "source": [
        "### Set Label Names"
      ]
    },
    {
      "cell_type": "code",
      "execution_count": 8,
      "metadata": {},
      "outputs": [
        {
          "name": "stdout",
          "output_type": "stream",
          "text": [
            "Label for the images are ['no_tumor', 'tumor']\n"
          ]
        }
      ],
      "source": [
        "labels = os.listdir(train_path)\n",
        "print('Label for the images are', labels)"
      ]
    },
    {
      "cell_type": "markdown",
      "metadata": {},
      "source": [
        "### Set Image Shape"
      ]
    },
    {
      "cell_type": "code",
      "execution_count": 9,
      "metadata": {},
      "outputs": [
        {
          "data": {
            "text/plain": [
              "(470, 467, 3)"
            ]
          },
          "execution_count": 9,
          "metadata": {},
          "output_type": "execute_result"
        }
      ],
      "source": [
        "image_shape = joblib.load(filename=f\"outputs/{version}/avg_image_shape_train.pkl\")\n",
        "image_shape"
      ]
    },
    {
      "cell_type": "markdown",
      "metadata": {},
      "source": [
        "---"
      ]
    },
    {
      "cell_type": "markdown",
      "metadata": {},
      "source": [
        "## Number of images in train, test and validation data"
      ]
    },
    {
      "cell_type": "code",
      "execution_count": 40,
      "metadata": {},
      "outputs": [
        {
          "name": "stdout",
          "output_type": "stream",
          "text": [
            "* test - no_tumor: 100 images\n",
            "* test - tumor: 554 images\n",
            "* train - no_tumor: 350 images\n",
            "* train - tumor: 1934 images\n",
            "* validation - no_tumor: 50 images\n",
            "* validation - tumor: 276 images\n",
            "\n",
            "\n"
          ]
        },
        {
          "data": {
            "image/png": "[encoded data removed]",
            "text/plain": [
              "<Figure size 800x400 with 1 Axes>"
            ]
          },
          "metadata": {},
          "output_type": "display_data"
        },
        {
          "name": "stdout",
          "output_type": "stream",
          "text": [
            "Total data across all labels: 3264\n",
            "Total data in no_tumor: 500\n",
            "Total data in tumor: 2764\n",
            "\n"
          ]
        },
        {
          "data": {
            "image/png": "[encoded data removed]",
            "text/plain": [
              "<Figure size 400x400 with 1 Axes>"
            ]
          },
          "metadata": {},
          "output_type": "display_data"
        }
      ],
      "source": [
        "data = []\n",
        "for folder in ['test', 'train', 'validation']:\n",
        "    folder_path = os.path.join(data_dir, folder)\n",
        "    for label in labels:\n",
        "        label_path = os.path.join(folder_path, label)\n",
        "        frequency = len(os.listdir(label_path))\n",
        "        data.append({'Set': folder, 'Label': label, 'Frequency': frequency})\n",
        "        print(f\"* {folder} - {label}: {frequency} images\")\n",
        "\n",
        "print(\"\\n\")\n",
        "\n",
        "# DataFrame\n",
        "df_freq = pd.DataFrame(data)\n",
        "\n",
        "# Calculate total data across all labels\n",
        "total_data_all_labels = df_freq['Frequency'].sum()\n",
        "\n",
        "# Calculate total data in each label\n",
        "total_data_per_label = df_freq.groupby('Label')['Frequency'].sum()\n",
        "\n",
        "# Generate string output\n",
        "string_output = f\"Total data across all labels: {total_data_all_labels}\\n\"\n",
        "for label, total in total_data_per_label.items():\n",
        "    string_output += f\"Total data in {label}: {total}\\n\"\n",
        "\n",
        "\n",
        "# Plotting the bar plot\n",
        "sns.set_style(\"whitegrid\")\n",
        "plt.figure(figsize=(8, 4))\n",
        "sns.barplot(data=df_freq, x='Set', y='Frequency', hue='Label')\n",
        "plt.title('Distribution of Labels in Different Sets')\n",
        "plt.xlabel('Set')\n",
        "plt.ylabel('Frequency')\n",
        "plt.savefig(f'{file_path}/labels_distribution_bar.png', bbox_inches='tight', dpi=150)\n",
        "plt.show()\n",
        "\n",
        "# Plotting total data string\n",
        "print(string_output)\n",
        "\n",
        "# Plotting the pie chart\n",
        "plt.figure(figsize=(4, 4))\n",
        "plt.pie(total_data_per_label, labels=total_data_per_label.index, autopct='%1.1f%%', startangle=140)\n",
        "plt.title('Total Data in Each Label')\n",
        "plt.axis('equal')\n",
        "plt.savefig(f'{file_path}/labels_pie_chart.png', bbox_inches='tight', dpi=150)\n",
        "plt.show()"
      ]
    },
    {
      "cell_type": "markdown",
      "metadata": {},
      "source": [
        "### Conclusion of Dataset distribution"
      ]
    },
    {
      "cell_type": "markdown",
      "metadata": {},
      "source": [
        "As we can see, the data in each label for \"no_tumor\" and \"tumor\" is highly imbalanced. This could pose challanges for data analysis such as:\n",
        "+ **Bias in Model Training:**  \n",
        "Class imbalances can lead to bias in model training, where the model may become more biased towards the majority class. In this case the \"tumor\" images.\n",
        "\n",
        "+ **Poor Generalization:**  \n",
        "    Models trained on imbalanced datasets may have difficulty generalizing well to unseen data, especially for the minority class.\n",
        "\n",
        "+ **Evaluation Metrics:**\n",
        "Traditional evaluation metrics such as accuracy may not provide an accurate representation of the model's performance, especially in imbalanced datasets. For instance, a model that always predicts the majority class (tumor) would achieve high accuracy but provide little to no value in detecting the minority class (no_tumor).\n",
        "\n",
        "+ **Decision Boundaries:**  \n",
        "Imbalance in the dataset can influence the decision boundaries learned by the model, potentially leading to misclassification of the minority class instances."
      ]
    },
    {
      "cell_type": "markdown",
      "metadata": {},
      "source": [
        "To combat these issues, it is essential to address the class imbalance through techniques such as:\n",
        "+ **Data Resampling:**  \n",
        "Oversampling the minority class or undersampling the majority class to balance the dataset.\n",
        "\n",
        "+ **Data Augmentation:**  \n",
        "Introduce variations to existing data samples, such as rotation, scaling, flipping, cropping, or adding noise. This can help in creating additional training examples, especially for the minority class.\n",
        "\n",
        "+ **Evaluation Metrics:**  \n",
        "Focusing on metrics like precision, recall, F1-score, or area under the ROC curve (AUC-ROC) that provide insights into the model's performance across different classes."
      ]
    },
    {
      "cell_type": "markdown",
      "metadata": {},
      "source": []
    }
  ],
  "metadata": {
    "accelerator": "GPU",
    "colab": {
      "name": "Data Practitioner Jupyter Notebook.ipynb",
      "provenance": [],
      "toc_visible": true
    },
    "interpreter": {
      "hash": "8b8334dab9339717f727a1deaf837b322d7a41c20d15cc86be99a8e69ceec8ce"
    },
    "kernelspec": {
      "display_name": "Python 3.8.12 64-bit ('3.8.12': pyenv)",
      "name": "python3"
    },
    "language_info": {
      "codemirror_mode": {
        "name": "ipython",
        "version": 3
      },
      "file_extension": ".py",
      "mimetype": "text/x-python",
      "name": "python",
      "nbconvert_exporter": "python",
      "pygments_lexer": "ipython3",
      "version": "3.12.0"
    },
    "orig_nbformat": 2
  },
  "nbformat": 4,
  "nbformat_minor": 2
}

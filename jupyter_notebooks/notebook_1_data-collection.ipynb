{
  "cells": [
    {
      "cell_type": "markdown",
      "metadata": {},
      "source": [
        "# PP5 - ML Brain Tumor Detector"
      ]
    },
    {
      "cell_type": "markdown",
      "metadata": {
        "id": "0aStgWSO0E0E"
      },
      "source": [
        "## Notebook 1 - Data Collection"
      ]
    },
    {
      "cell_type": "markdown",
      "metadata": {
        "id": "1eLEkw5O0ECa"
      },
      "source": [
        "### Objectives\n",
        "\n",
        "* Fetch data from kaggle and prepare data for further processes.\n",
        "\n",
        "\n",
        "### Inputs\n",
        "\n",
        "* \n",
        "\n",
        "\n",
        "### Outputs\n",
        "\n",
        "| **output**      |          |       |\n",
        "|-----------------|----------|-------|\n",
        "| **train/**      | no_tumor | tumor |\n",
        "| **test/**       | no_tumor | tumor |\n",
        "| **validation/** | no_tumor | tumor |\n",
        "\n",
        "\n",
        "### Additional Comments\n",
        "\n",
        "* Dataset: [Kaggle](https://www.kaggle.com/datasets/sartajbhuvaji/brain-tumor-classification-mri?select=Training)\n",
        "* License: [MIT](https://www.mit.edu/~amini/LICENSE.md)"
      ]
    },
    {
      "cell_type": "markdown",
      "metadata": {
        "id": "9uWZXH9LwoQg"
      },
      "source": [
        "---"
      ]
    },
    {
      "cell_type": "markdown",
      "metadata": {},
      "source": [
        "### Import packages"
      ]
    },
    {
      "cell_type": "code",
      "execution_count": 1,
      "metadata": {},
      "outputs": [
        {
          "name": "stdout",
          "output_type": "stream",
          "text": [
            "Defaulting to user installation because normal site-packages is not writeable\n",
            "Requirement already satisfied: absl-py==2.1.0 in /workspace/.pyenv_mirror/user/current/lib/python3.10/site-packages (from -r ../requirements.txt (line 1)) (2.1.0)\n",
            "Requirement already satisfied: altair==5.2.0 in /workspace/.pyenv_mirror/user/current/lib/python3.10/site-packages (from -r ../requirements.txt (line 2)) (5.2.0)\n",
            "Requirement already satisfied: astunparse==1.6.3 in /workspace/.pyenv_mirror/user/current/lib/python3.10/site-packages (from -r ../requirements.txt (line 3)) (1.6.3)\n",
            "Requirement already satisfied: blinker==1.7.0 in /workspace/.pyenv_mirror/user/current/lib/python3.10/site-packages (from -r ../requirements.txt (line 4)) (1.7.0)\n",
            "Requirement already satisfied: cachetools==5.3.3 in /workspace/.pyenv_mirror/user/current/lib/python3.10/site-packages (from -r ../requirements.txt (line 5)) (5.3.3)\n",
            "Requirement already satisfied: click==8.1.7 in /workspace/.pyenv_mirror/user/current/lib/python3.10/site-packages (from -r ../requirements.txt (line 6)) (8.1.7)\n",
            "Requirement already satisfied: contourpy==1.2.0 in /workspace/.pyenv_mirror/user/current/lib/python3.10/site-packages (from -r ../requirements.txt (line 7)) (1.2.0)\n",
            "Requirement already satisfied: cycler==0.12.1 in /workspace/.pyenv_mirror/user/current/lib/python3.10/site-packages (from -r ../requirements.txt (line 8)) (0.12.1)\n",
            "Requirement already satisfied: flatbuffers==24.3.25 in /workspace/.pyenv_mirror/user/current/lib/python3.10/site-packages (from -r ../requirements.txt (line 9)) (24.3.25)\n",
            "Requirement already satisfied: fonttools==4.50.0 in /workspace/.pyenv_mirror/user/current/lib/python3.10/site-packages (from -r ../requirements.txt (line 10)) (4.50.0)\n",
            "Requirement already satisfied: gast==0.5.4 in /workspace/.pyenv_mirror/user/current/lib/python3.10/site-packages (from -r ../requirements.txt (line 11)) (0.5.4)\n",
            "Requirement already satisfied: gitdb==4.0.11 in /workspace/.pyenv_mirror/user/current/lib/python3.10/site-packages (from -r ../requirements.txt (line 12)) (4.0.11)\n",
            "Requirement already satisfied: GitPython==3.1.42 in /workspace/.pyenv_mirror/user/current/lib/python3.10/site-packages (from -r ../requirements.txt (line 13)) (3.1.42)\n",
            "Requirement already satisfied: google-pasta==0.2.0 in /workspace/.pyenv_mirror/user/current/lib/python3.10/site-packages (from -r ../requirements.txt (line 14)) (0.2.0)\n",
            "Requirement already satisfied: grpcio==1.62.1 in /workspace/.pyenv_mirror/user/current/lib/python3.10/site-packages (from -r ../requirements.txt (line 15)) (1.62.1)\n",
            "Requirement already satisfied: h5py==3.10.0 in /workspace/.pyenv_mirror/user/current/lib/python3.10/site-packages (from -r ../requirements.txt (line 16)) (3.10.0)\n",
            "Requirement already satisfied: joblib==1.3.2 in /workspace/.pyenv_mirror/user/current/lib/python3.10/site-packages (from -r ../requirements.txt (line 17)) (1.3.2)\n",
            "Requirement already satisfied: keras==3.1.1 in /workspace/.pyenv_mirror/user/current/lib/python3.10/site-packages (from -r ../requirements.txt (line 18)) (3.1.1)\n",
            "Requirement already satisfied: kiwisolver==1.4.5 in /workspace/.pyenv_mirror/user/current/lib/python3.10/site-packages (from -r ../requirements.txt (line 19)) (1.4.5)\n",
            "Requirement already satisfied: libclang==18.1.1 in /workspace/.pyenv_mirror/user/current/lib/python3.10/site-packages (from -r ../requirements.txt (line 20)) (18.1.1)\n",
            "Requirement already satisfied: Markdown==3.6 in /workspace/.pyenv_mirror/user/current/lib/python3.10/site-packages (from -r ../requirements.txt (line 21)) (3.6)\n",
            "Requirement already satisfied: matplotlib==3.8.3 in /workspace/.pyenv_mirror/user/current/lib/python3.10/site-packages (from -r ../requirements.txt (line 22)) (3.8.3)\n",
            "Requirement already satisfied: ml-dtypes==0.3.2 in /workspace/.pyenv_mirror/user/current/lib/python3.10/site-packages (from -r ../requirements.txt (line 23)) (0.3.2)\n",
            "Requirement already satisfied: namex==0.0.7 in /workspace/.pyenv_mirror/user/current/lib/python3.10/site-packages (from -r ../requirements.txt (line 24)) (0.0.7)\n",
            "Requirement already satisfied: numpy==1.26.4 in /workspace/.pyenv_mirror/user/current/lib/python3.10/site-packages (from -r ../requirements.txt (line 25)) (1.26.4)\n",
            "Requirement already satisfied: opt-einsum==3.3.0 in /workspace/.pyenv_mirror/user/current/lib/python3.10/site-packages (from -r ../requirements.txt (line 26)) (3.3.0)\n",
            "Requirement already satisfied: optree==0.11.0 in /workspace/.pyenv_mirror/user/current/lib/python3.10/site-packages (from -r ../requirements.txt (line 27)) (0.11.0)\n",
            "Requirement already satisfied: packaging==23.2 in /workspace/.pyenv_mirror/user/current/lib/python3.10/site-packages (from -r ../requirements.txt (line 28)) (23.2)\n",
            "Requirement already satisfied: pandas==2.2.1 in /workspace/.pyenv_mirror/user/current/lib/python3.10/site-packages (from -r ../requirements.txt (line 29)) (2.2.1)\n",
            "Requirement already satisfied: pillow==10.2.0 in /workspace/.pyenv_mirror/user/current/lib/python3.10/site-packages (from -r ../requirements.txt (line 30)) (10.2.0)\n",
            "Requirement already satisfied: plotly==5.20.0 in /workspace/.pyenv_mirror/user/current/lib/python3.10/site-packages (from -r ../requirements.txt (line 31)) (5.20.0)\n",
            "Requirement already satisfied: protobuf==4.25.3 in /workspace/.pyenv_mirror/user/current/lib/python3.10/site-packages (from -r ../requirements.txt (line 32)) (4.25.3)\n",
            "Requirement already satisfied: pyarrow==15.0.2 in /workspace/.pyenv_mirror/user/current/lib/python3.10/site-packages (from -r ../requirements.txt (line 33)) (15.0.2)\n",
            "Requirement already satisfied: pydeck==0.8.1b0 in /workspace/.pyenv_mirror/user/current/lib/python3.10/site-packages (from -r ../requirements.txt (line 34)) (0.8.1b0)\n",
            "Requirement already satisfied: pyparsing==3.1.2 in /workspace/.pyenv_mirror/user/current/lib/python3.10/site-packages (from -r ../requirements.txt (line 35)) (3.1.2)\n",
            "Requirement already satisfied: pytz==2024.1 in /workspace/.pyenv_mirror/user/current/lib/python3.10/site-packages (from -r ../requirements.txt (line 36)) (2024.1)\n",
            "Requirement already satisfied: scikit-learn==1.4.1.post1 in /workspace/.pyenv_mirror/user/current/lib/python3.10/site-packages (from -r ../requirements.txt (line 37)) (1.4.1.post1)\n",
            "Requirement already satisfied: scipy==1.12.0 in /workspace/.pyenv_mirror/user/current/lib/python3.10/site-packages (from -r ../requirements.txt (line 38)) (1.12.0)\n",
            "Requirement already satisfied: seaborn==0.13.2 in /workspace/.pyenv_mirror/user/current/lib/python3.10/site-packages (from -r ../requirements.txt (line 39)) (0.13.2)\n",
            "Requirement already satisfied: smmap==5.0.1 in /workspace/.pyenv_mirror/user/current/lib/python3.10/site-packages (from -r ../requirements.txt (line 40)) (5.0.1)\n",
            "Requirement already satisfied: streamlit==1.32.2 in /workspace/.pyenv_mirror/user/current/lib/python3.10/site-packages (from -r ../requirements.txt (line 41)) (1.32.2)\n",
            "Requirement already satisfied: tenacity==8.2.3 in /workspace/.pyenv_mirror/user/current/lib/python3.10/site-packages (from -r ../requirements.txt (line 42)) (8.2.3)\n",
            "Requirement already satisfied: tensorboard==2.16.2 in /workspace/.pyenv_mirror/user/current/lib/python3.10/site-packages (from -r ../requirements.txt (line 43)) (2.16.2)\n",
            "Requirement already satisfied: tensorboard-data-server==0.7.2 in /workspace/.pyenv_mirror/user/current/lib/python3.10/site-packages (from -r ../requirements.txt (line 44)) (0.7.2)\n",
            "Requirement already satisfied: tensorflow-cpu==2.16.1 in /workspace/.pyenv_mirror/user/current/lib/python3.10/site-packages (from -r ../requirements.txt (line 45)) (2.16.1)\n",
            "Requirement already satisfied: termcolor==2.4.0 in /workspace/.pyenv_mirror/user/current/lib/python3.10/site-packages (from -r ../requirements.txt (line 46)) (2.4.0)\n",
            "Requirement already satisfied: threadpoolctl==3.4.0 in /workspace/.pyenv_mirror/user/current/lib/python3.10/site-packages (from -r ../requirements.txt (line 47)) (3.4.0)\n",
            "Requirement already satisfied: toml==0.10.2 in /workspace/.pyenv_mirror/user/current/lib/python3.10/site-packages (from -r ../requirements.txt (line 48)) (0.10.2)\n",
            "Requirement already satisfied: toolz==0.12.1 in /workspace/.pyenv_mirror/user/current/lib/python3.10/site-packages (from -r ../requirements.txt (line 49)) (0.12.1)\n",
            "Requirement already satisfied: tzdata==2024.1 in /workspace/.pyenv_mirror/user/current/lib/python3.10/site-packages (from -r ../requirements.txt (line 50)) (2024.1)\n",
            "Requirement already satisfied: watchdog==4.0.0 in /workspace/.pyenv_mirror/user/current/lib/python3.10/site-packages (from -r ../requirements.txt (line 51)) (4.0.0)\n",
            "Requirement already satisfied: Werkzeug==3.0.1 in /workspace/.pyenv_mirror/user/current/lib/python3.10/site-packages (from -r ../requirements.txt (line 52)) (3.0.1)\n",
            "Requirement already satisfied: wrapt==1.16.0 in /workspace/.pyenv_mirror/user/current/lib/python3.10/site-packages (from -r ../requirements.txt (line 53)) (1.16.0)\n",
            "Requirement already satisfied: jinja2 in /workspace/.pyenv_mirror/user/current/lib/python3.10/site-packages (from altair==5.2.0->-r ../requirements.txt (line 2)) (3.1.3)\n",
            "Requirement already satisfied: typing-extensions>=4.0.1 in /workspace/.pyenv_mirror/user/current/lib/python3.10/site-packages (from altair==5.2.0->-r ../requirements.txt (line 2)) (4.11.0)\n",
            "Requirement already satisfied: jsonschema>=3.0 in /workspace/.pyenv_mirror/user/current/lib/python3.10/site-packages (from altair==5.2.0->-r ../requirements.txt (line 2)) (4.21.1)\n",
            "Requirement already satisfied: six<2.0,>=1.6.1 in /usr/lib/python3/dist-packages (from astunparse==1.6.3->-r ../requirements.txt (line 3)) (1.16.0)\n",
            "Requirement already satisfied: wheel<1.0,>=0.23.0 in /usr/lib/python3/dist-packages (from astunparse==1.6.3->-r ../requirements.txt (line 3)) (0.37.1)\n",
            "Requirement already satisfied: rich in /workspace/.pyenv_mirror/user/current/lib/python3.10/site-packages (from keras==3.1.1->-r ../requirements.txt (line 18)) (13.7.1)\n",
            "Requirement already satisfied: python-dateutil>=2.7 in /workspace/.pyenv_mirror/user/current/lib/python3.10/site-packages (from matplotlib==3.8.3->-r ../requirements.txt (line 22)) (2.9.0.post0)\n",
            "Requirement already satisfied: tornado<7,>=6.0.3 in /workspace/.pyenv_mirror/user/current/lib/python3.10/site-packages (from streamlit==1.32.2->-r ../requirements.txt (line 41)) (6.4)\n",
            "Requirement already satisfied: requests<3,>=2.27 in /workspace/.pyenv_mirror/user/current/lib/python3.10/site-packages (from streamlit==1.32.2->-r ../requirements.txt (line 41)) (2.31.0)\n",
            "Requirement already satisfied: setuptools>=41.0.0 in /usr/lib/python3/dist-packages (from tensorboard==2.16.2->-r ../requirements.txt (line 43)) (59.6.0)\n",
            "Requirement already satisfied: tensorflow-io-gcs-filesystem>=0.23.1 in /workspace/.pyenv_mirror/user/current/lib/python3.10/site-packages (from tensorflow-cpu==2.16.1->-r ../requirements.txt (line 45)) (0.36.0)\n",
            "Requirement already satisfied: MarkupSafe>=2.1.1 in /workspace/.pyenv_mirror/user/current/lib/python3.10/site-packages (from Werkzeug==3.0.1->-r ../requirements.txt (line 52)) (2.1.5)\n",
            "Requirement already satisfied: rpds-py>=0.7.1 in /workspace/.pyenv_mirror/user/current/lib/python3.10/site-packages (from jsonschema>=3.0->altair==5.2.0->-r ../requirements.txt (line 2)) (0.18.0)\n",
            "Requirement already satisfied: referencing>=0.28.4 in /workspace/.pyenv_mirror/user/current/lib/python3.10/site-packages (from jsonschema>=3.0->altair==5.2.0->-r ../requirements.txt (line 2)) (0.34.0)\n",
            "Requirement already satisfied: attrs>=22.2.0 in /workspace/.pyenv_mirror/user/current/lib/python3.10/site-packages (from jsonschema>=3.0->altair==5.2.0->-r ../requirements.txt (line 2)) (23.2.0)\n",
            "Requirement already satisfied: jsonschema-specifications>=2023.03.6 in /workspace/.pyenv_mirror/user/current/lib/python3.10/site-packages (from jsonschema>=3.0->altair==5.2.0->-r ../requirements.txt (line 2)) (2023.12.1)\n",
            "Requirement already satisfied: certifi>=2017.4.17 in /workspace/.pyenv_mirror/user/current/lib/python3.10/site-packages (from requests<3,>=2.27->streamlit==1.32.2->-r ../requirements.txt (line 41)) (2024.2.2)\n",
            "Requirement already satisfied: urllib3<3,>=1.21.1 in /workspace/.pyenv_mirror/user/current/lib/python3.10/site-packages (from requests<3,>=2.27->streamlit==1.32.2->-r ../requirements.txt (line 41)) (2.2.1)\n",
            "Requirement already satisfied: idna<4,>=2.5 in /workspace/.pyenv_mirror/user/current/lib/python3.10/site-packages (from requests<3,>=2.27->streamlit==1.32.2->-r ../requirements.txt (line 41)) (3.7)\n",
            "Requirement already satisfied: charset-normalizer<4,>=2 in /workspace/.pyenv_mirror/user/current/lib/python3.10/site-packages (from requests<3,>=2.27->streamlit==1.32.2->-r ../requirements.txt (line 41)) (3.3.2)\n",
            "Requirement already satisfied: pygments<3.0.0,>=2.13.0 in /workspace/.pyenv_mirror/user/current/lib/python3.10/site-packages (from rich->keras==3.1.1->-r ../requirements.txt (line 18)) (2.17.2)\n",
            "Requirement already satisfied: markdown-it-py>=2.2.0 in /workspace/.pyenv_mirror/user/current/lib/python3.10/site-packages (from rich->keras==3.1.1->-r ../requirements.txt (line 18)) (3.0.0)\n",
            "Requirement already satisfied: mdurl~=0.1 in /workspace/.pyenv_mirror/user/current/lib/python3.10/site-packages (from markdown-it-py>=2.2.0->rich->keras==3.1.1->-r ../requirements.txt (line 18)) (0.1.2)\n",
            "Note: you may need to restart the kernel to use updated packages.\n"
          ]
        }
      ],
      "source": [
        "%pip install -r ../requirements.txt"
      ]
    },
    {
      "cell_type": "markdown",
      "metadata": {
        "id": "cqP-UeN-z3i2"
      },
      "source": [
        "## Change working directory"
      ]
    },
    {
      "cell_type": "markdown",
      "metadata": {},
      "source": [
        "* We are assuming you will store the notebooks in a subfolder, therefore when running the notebook in the editor, you will need to change the working directory"
      ]
    },
    {
      "cell_type": "markdown",
      "metadata": {
        "id": "aOGIGS-uz3i2"
      },
      "source": [
        "We need to change the working directory from its current folder to its parent folder\n",
        "* We access the current directory with os.getcwd()"
      ]
    },
    {
      "cell_type": "code",
      "execution_count": 2,
      "metadata": {
        "id": "wZfF_j-Bz3i4",
        "outputId": "66943449-1436-4c3d-85c7-b85f9f78349b"
      },
      "outputs": [
        {
          "data": {
            "text/plain": [
              "'/workspace/ml-brain-tumor-detection/jupyter_notebooks'"
            ]
          },
          "execution_count": 2,
          "metadata": {},
          "output_type": "execute_result"
        }
      ],
      "source": [
        "import os\n",
        "current_dir = os.getcwd()\n",
        "current_dir"
      ]
    },
    {
      "cell_type": "markdown",
      "metadata": {
        "id": "9MWW8E7lz3i7"
      },
      "source": [
        "We want to make the parent of the current directory the new current directory\n",
        "* os.path.dirname() gets the parent directory\n",
        "* os.chir() defines the new current directory"
      ]
    },
    {
      "cell_type": "code",
      "execution_count": 3,
      "metadata": {
        "id": "TwHsQRWjz3i9",
        "outputId": "86849db3-cd2f-4cc5-ebb8-2d0caafa1a2c"
      },
      "outputs": [
        {
          "name": "stdout",
          "output_type": "stream",
          "text": [
            "You set a new current directory\n"
          ]
        }
      ],
      "source": [
        "os.chdir('/workspace/ml-brain-tumor-detection')\n",
        "print(\"You set a new current directory\")"
      ]
    },
    {
      "cell_type": "markdown",
      "metadata": {
        "id": "M_xPk_Ijz3i-"
      },
      "source": [
        "Confirm the new current directory"
      ]
    },
    {
      "cell_type": "code",
      "execution_count": 4,
      "metadata": {
        "id": "vz3S-_kjz3jA",
        "outputId": "00b79ae4-75d0-4a96-d193-ac9ef9847ea2"
      },
      "outputs": [
        {
          "data": {
            "text/plain": [
              "'/workspace/ml-brain-tumor-detection'"
            ]
          },
          "execution_count": 4,
          "metadata": {},
          "output_type": "execute_result"
        }
      ],
      "source": [
        "current_dir = os.getcwd()\n",
        "current_dir"
      ]
    },
    {
      "cell_type": "markdown",
      "metadata": {
        "id": "-mavJ8DibrcQ"
      },
      "source": [
        "## Get data from Kaggle"
      ]
    },
    {
      "cell_type": "markdown",
      "metadata": {},
      "source": [
        "**Install Kaggle**"
      ]
    },
    {
      "cell_type": "code",
      "execution_count": 5,
      "metadata": {},
      "outputs": [
        {
          "name": "stdout",
          "output_type": "stream",
          "text": [
            "Defaulting to user installation because normal site-packages is not writeable\n",
            "Requirement already satisfied: kaggle==1.6.8 in /workspace/.pyenv_mirror/user/current/lib/python3.10/site-packages (1.6.8)\n",
            "Requirement already satisfied: requests in /workspace/.pyenv_mirror/user/current/lib/python3.10/site-packages (from kaggle==1.6.8) (2.31.0)\n",
            "Requirement already satisfied: certifi>=2023.7.22 in /workspace/.pyenv_mirror/user/current/lib/python3.10/site-packages (from kaggle==1.6.8) (2024.2.2)\n",
            "Requirement already satisfied: six>=1.10 in /usr/lib/python3/dist-packages (from kaggle==1.6.8) (1.16.0)\n",
            "Requirement already satisfied: tqdm in /workspace/.pyenv_mirror/user/current/lib/python3.10/site-packages (from kaggle==1.6.8) (4.66.2)\n",
            "Requirement already satisfied: python-slugify in /workspace/.pyenv_mirror/user/current/lib/python3.10/site-packages (from kaggle==1.6.8) (8.0.4)\n",
            "Requirement already satisfied: python-dateutil in /workspace/.pyenv_mirror/user/current/lib/python3.10/site-packages (from kaggle==1.6.8) (2.9.0.post0)\n",
            "Requirement already satisfied: urllib3 in /workspace/.pyenv_mirror/user/current/lib/python3.10/site-packages (from kaggle==1.6.8) (2.2.1)\n",
            "Requirement already satisfied: bleach in /workspace/.pyenv_mirror/user/current/lib/python3.10/site-packages (from kaggle==1.6.8) (6.1.0)\n",
            "Requirement already satisfied: webencodings in /workspace/.pyenv_mirror/user/current/lib/python3.10/site-packages (from bleach->kaggle==1.6.8) (0.5.1)\n",
            "Requirement already satisfied: text-unidecode>=1.3 in /workspace/.pyenv_mirror/user/current/lib/python3.10/site-packages (from python-slugify->kaggle==1.6.8) (1.3)\n",
            "Requirement already satisfied: charset-normalizer<4,>=2 in /workspace/.pyenv_mirror/user/current/lib/python3.10/site-packages (from requests->kaggle==1.6.8) (3.3.2)\n",
            "Requirement already satisfied: idna<4,>=2.5 in /workspace/.pyenv_mirror/user/current/lib/python3.10/site-packages (from requests->kaggle==1.6.8) (3.7)\n",
            "Note: you may need to restart the kernel to use updated packages.\n"
          ]
        }
      ],
      "source": [
        "%pip install kaggle==1.6.8"
      ]
    },
    {
      "cell_type": "markdown",
      "metadata": {},
      "source": [
        "**Change the Kaggle configuration directory to the current working directory and set permissions for the Kaggle authentication JSON**"
      ]
    },
    {
      "cell_type": "code",
      "execution_count": 6,
      "metadata": {},
      "outputs": [],
      "source": [
        "os.environ['KAGGLE_CONFIG_DIR'] = os.getcwd()\n",
        "! chmod 600 kaggle.json"
      ]
    },
    {
      "cell_type": "markdown",
      "metadata": {},
      "source": [
        "**Set the kaggle dataset and download it**"
      ]
    },
    {
      "cell_type": "code",
      "execution_count": 7,
      "metadata": {},
      "outputs": [
        {
          "name": "stdout",
          "output_type": "stream",
          "text": [
            "Downloading brain-tumor-classification-mri.zip to input\n",
            " 96%|████████████████████████████████████▎ | 83.0M/86.8M [00:02<00:00, 38.6MB/s]\n",
            "100%|██████████████████████████████████████| 86.8M/86.8M [00:02<00:00, 40.4MB/s]\n"
          ]
        }
      ],
      "source": [
        "KaggleDatasetPath = \"sartajbhuvaji/brain-tumor-classification-mri\"\n",
        "DestinationFolder = \"input/\"   \n",
        "! kaggle datasets download -d {KaggleDatasetPath} -p {DestinationFolder}"
      ]
    },
    {
      "cell_type": "markdown",
      "metadata": {},
      "source": [
        "**Unzip the file and delete the zip folder.**"
      ]
    },
    {
      "cell_type": "code",
      "execution_count": 8,
      "metadata": {},
      "outputs": [],
      "source": [
        "import zipfile\n",
        "with zipfile.ZipFile(DestinationFolder + '/brain-tumor-classification-mri.zip', 'r') as zip_ref:\n",
        "    zip_ref.extractall(DestinationFolder)\n",
        "\n",
        "os.remove(DestinationFolder + '/brain-tumor-classification-mri.zip')"
      ]
    },
    {
      "cell_type": "markdown",
      "metadata": {
        "id": "ZY3l0-AxO93d"
      },
      "source": [
        "---"
      ]
    },
    {
      "cell_type": "markdown",
      "metadata": {
        "id": "uFQo3ycuO-v6"
      },
      "source": [
        "## Prepare the Data"
      ]
    },
    {
      "cell_type": "markdown",
      "metadata": {},
      "source": [
        "**Create folder structure**"
      ]
    },
    {
      "cell_type": "code",
      "execution_count": 9,
      "metadata": {},
      "outputs": [],
      "source": [
        "import shutil"
      ]
    },
    {
      "cell_type": "code",
      "execution_count": 10,
      "metadata": {},
      "outputs": [],
      "source": [
        "testing_folder = 'input/Testing'\n",
        "training_folder = 'input/Training'\n",
        "parent_folder = 'input'"
      ]
    },
    {
      "cell_type": "code",
      "execution_count": 11,
      "metadata": {},
      "outputs": [],
      "source": [
        "def create_folder_structure(parent_folder):\n",
        "    brain_mri_scans_folder = os.path.join(parent_folder, 'brain-mri-scans')\n",
        "    os.makedirs(brain_mri_scans_folder, exist_ok=True)\n",
        "    \n",
        "    tumor_folder = os.path.join(brain_mri_scans_folder, 'tumor')\n",
        "    no_tumor_folder = os.path.join(brain_mri_scans_folder, 'no_tumor')\n",
        "    os.makedirs(tumor_folder, exist_ok=True)\n",
        "    os.makedirs(no_tumor_folder, exist_ok=True)\n",
        "\n",
        "create_folder_structure(parent_folder)"
      ]
    },
    {
      "cell_type": "markdown",
      "metadata": {},
      "source": [
        "**Merge pre-split folders (no_tumor)**"
      ]
    },
    {
      "cell_type": "code",
      "execution_count": 12,
      "metadata": {},
      "outputs": [],
      "source": [
        "def move_and_rename_no_tumor_images(testing_folder, training_folder, parent_folder):\n",
        "    no_tumor_destination = os.path.join(parent_folder, 'brain-mri-scans', 'no_tumor')\n",
        "    \n",
        "    counter = 1\n",
        "    \n",
        "    def rename_file(file_path):\n",
        "        nonlocal counter\n",
        "        file_name, file_ext = os.path.splitext(file_path)\n",
        "        new_file_name = f'no_tumor_{counter}{file_ext}'\n",
        "        os.rename(file_path, os.path.join(os.path.dirname(file_path), new_file_name))\n",
        "        counter += 1\n",
        "    \n",
        "    testing_no_tumor_folder = os.path.join(testing_folder, 'no_tumor')\n",
        "    if os.path.exists(testing_no_tumor_folder):\n",
        "        for file in os.listdir(testing_no_tumor_folder):\n",
        "            source_file_path = os.path.join(testing_no_tumor_folder, file)\n",
        "            shutil.move(source_file_path, no_tumor_destination)\n",
        "            rename_file(os.path.join(no_tumor_destination, file))\n",
        "    \n",
        "    training_no_tumor_folder = os.path.join(training_folder, 'no_tumor')\n",
        "    if os.path.exists(training_no_tumor_folder):\n",
        "        for file in os.listdir(training_no_tumor_folder):\n",
        "            source_file_path = os.path.join(training_no_tumor_folder, file)\n",
        "            shutil.move(source_file_path, no_tumor_destination)\n",
        "            rename_file(os.path.join(no_tumor_destination, file))\n",
        "\n",
        "move_and_rename_no_tumor_images(testing_folder, training_folder, parent_folder)"
      ]
    },
    {
      "cell_type": "markdown",
      "metadata": {},
      "source": [
        "**Merge pre-split folders (glioma_tumor)**"
      ]
    },
    {
      "cell_type": "code",
      "execution_count": 13,
      "metadata": {},
      "outputs": [],
      "source": [
        "def move_and_rename_glioma_tumor_images(testing_folder, training_folder, parent_folder):\n",
        "    no_tumor_destination = os.path.join(parent_folder, 'brain-mri-scans', 'tumor')\n",
        "    \n",
        "    counter = 1\n",
        "    \n",
        "    def rename_file_glioma(file_path):\n",
        "        nonlocal counter\n",
        "        file_name, file_ext = os.path.splitext(file_path)\n",
        "        new_file_name = f'glioma_{counter}{file_ext}'\n",
        "        os.rename(file_path, os.path.join(os.path.dirname(file_path), new_file_name))\n",
        "        counter += 1\n",
        "    \n",
        "    testing_glioma_tumor_folder = os.path.join(testing_folder, 'glioma_tumor')\n",
        "    if os.path.exists(testing_glioma_tumor_folder):\n",
        "        for file in os.listdir(testing_glioma_tumor_folder):\n",
        "            source_file_path = os.path.join(testing_glioma_tumor_folder, file)\n",
        "            shutil.move(source_file_path, no_tumor_destination)\n",
        "            rename_file_glioma(os.path.join(no_tumor_destination, file))\n",
        "    \n",
        "    training_glioma_tumor_folder = os.path.join(training_folder, 'glioma_tumor')\n",
        "    if os.path.exists(training_glioma_tumor_folder):\n",
        "        for file in os.listdir(training_glioma_tumor_folder):\n",
        "            source_file_path = os.path.join(training_glioma_tumor_folder, file)\n",
        "            shutil.move(source_file_path, no_tumor_destination)\n",
        "            rename_file_glioma(os.path.join(no_tumor_destination, file))\n",
        "\n",
        "move_and_rename_glioma_tumor_images(testing_folder, training_folder, parent_folder)"
      ]
    },
    {
      "cell_type": "markdown",
      "metadata": {},
      "source": [
        "**Merge pre-split folders (meningioma_tumor)**"
      ]
    },
    {
      "cell_type": "code",
      "execution_count": 14,
      "metadata": {},
      "outputs": [],
      "source": [
        "def move_and_rename_meningioma_tumor_images(testing_folder, training_folder, parent_folder):\n",
        "    no_tumor_destination = os.path.join(parent_folder, 'brain-mri-scans', 'tumor')\n",
        "    \n",
        "    counter = 1\n",
        "    \n",
        "    def rename_file_meningioma(file_path):\n",
        "        nonlocal counter\n",
        "        file_name, file_ext = os.path.splitext(file_path)\n",
        "        new_file_name = f'meningioma_{counter}{file_ext}'\n",
        "        os.rename(file_path, os.path.join(os.path.dirname(file_path), new_file_name))\n",
        "        counter += 1\n",
        "    \n",
        "    testing_meningioma_tumor_folder = os.path.join(testing_folder, 'meningioma_tumor')\n",
        "    if os.path.exists(testing_meningioma_tumor_folder):\n",
        "        for file in os.listdir(testing_meningioma_tumor_folder):\n",
        "            source_file_path = os.path.join(testing_meningioma_tumor_folder, file)\n",
        "            shutil.move(source_file_path, no_tumor_destination)\n",
        "            rename_file_meningioma(os.path.join(no_tumor_destination, file))\n",
        "    \n",
        "    training_meningioma_tumor_folder = os.path.join(training_folder, 'meningioma_tumor')\n",
        "    if os.path.exists(training_meningioma_tumor_folder):\n",
        "        for file in os.listdir(training_meningioma_tumor_folder):\n",
        "            source_file_path = os.path.join(training_meningioma_tumor_folder, file)\n",
        "            shutil.move(source_file_path, no_tumor_destination)\n",
        "            rename_file_meningioma(os.path.join(no_tumor_destination, file))\n",
        "\n",
        "move_and_rename_meningioma_tumor_images(testing_folder, training_folder, parent_folder)"
      ]
    },
    {
      "cell_type": "markdown",
      "metadata": {},
      "source": [
        "**Merge pre-split folders (pituitary_tumor)**"
      ]
    },
    {
      "cell_type": "code",
      "execution_count": 15,
      "metadata": {},
      "outputs": [],
      "source": [
        "def move_and_rename_pituitary_tumor_images(testing_folder, training_folder, parent_folder):\n",
        "    no_tumor_destination = os.path.join(parent_folder, 'brain-mri-scans', 'tumor')\n",
        "    \n",
        "    counter = 1\n",
        "    \n",
        "    def rename_file_pituitary(file_path):\n",
        "        nonlocal counter\n",
        "        file_name, file_ext = os.path.splitext(file_path)\n",
        "        new_file_name = f'pituitary_{counter}{file_ext}'\n",
        "        os.rename(file_path, os.path.join(os.path.dirname(file_path), new_file_name))\n",
        "        counter += 1\n",
        "    \n",
        "    testing_pituitary_tumor_folder = os.path.join(testing_folder, 'pituitary_tumor')\n",
        "    if os.path.exists(testing_pituitary_tumor_folder):\n",
        "        for file in os.listdir(testing_pituitary_tumor_folder):\n",
        "            source_file_path = os.path.join(testing_pituitary_tumor_folder, file)\n",
        "            shutil.move(source_file_path, no_tumor_destination)\n",
        "            rename_file_pituitary(os.path.join(no_tumor_destination, file))\n",
        "    \n",
        "    training_pituitary_tumor_folder = os.path.join(training_folder, 'pituitary_tumor')\n",
        "    if os.path.exists(training_pituitary_tumor_folder):\n",
        "        for file in os.listdir(training_pituitary_tumor_folder):\n",
        "            source_file_path = os.path.join(training_pituitary_tumor_folder, file)\n",
        "            shutil.move(source_file_path, no_tumor_destination)\n",
        "            rename_file_pituitary(os.path.join(no_tumor_destination, file))\n",
        "\n",
        "move_and_rename_pituitary_tumor_images(testing_folder, training_folder, parent_folder)"
      ]
    },
    {
      "cell_type": "markdown",
      "metadata": {},
      "source": [
        "**Delete existing \"Testing\" and \"Training\" folder from input**"
      ]
    },
    {
      "cell_type": "code",
      "execution_count": 16,
      "metadata": {},
      "outputs": [],
      "source": [
        "def delete_testing_and_training_folders(testing_folder, training_folder):\n",
        "    if os.path.exists(testing_folder):\n",
        "        shutil.rmtree(testing_folder)\n",
        "    if os.path.exists(training_folder):\n",
        "        shutil.rmtree(training_folder)\n",
        "\n",
        "delete_testing_and_training_folders(testing_folder, training_folder)"
      ]
    },
    {
      "cell_type": "code",
      "execution_count": 17,
      "metadata": {},
      "outputs": [
        {
          "data": {
            "text/plain": [
              "['tumor', 'no_tumor']"
            ]
          },
          "execution_count": 17,
          "metadata": {},
          "output_type": "execute_result"
        }
      ],
      "source": [
        "os.listdir('input/brain-mri-scans')"
      ]
    },
    {
      "cell_type": "markdown",
      "metadata": {},
      "source": [
        "---"
      ]
    },
    {
      "cell_type": "markdown",
      "metadata": {},
      "source": [
        "## Split train/validation/test set"
      ]
    },
    {
      "cell_type": "code",
      "execution_count": 18,
      "metadata": {},
      "outputs": [],
      "source": [
        "import os\n",
        "import shutil\n",
        "import random"
      ]
    },
    {
      "cell_type": "code",
      "execution_count": 19,
      "metadata": {},
      "outputs": [],
      "source": [
        "# function taken from the CI walthrough project malaria detector and fitted for this project\n",
        "def split_data_images(input_dir, train_set_ratio, validation_set_ratio, test_set_ratio):\n",
        "    '''\n",
        "    Description:\n",
        "    Splits dataset in train, validation and test sets\n",
        "\n",
        "    Parameters:\n",
        "    input_dir: input directory containing the images\n",
        "    train_set_ratio: ratio for images included in train set\n",
        "    validation_set_ratio: ratio for images included in validation set\n",
        "    test_set_ratio: ratio for images included in test set\n",
        "\n",
        "    Returns:\n",
        "    None\n",
        "\n",
        "    '''\n",
        "    if train_set_ratio + validation_set_ratio + test_set_ratio != 1.0:\n",
        "        print(\"train_set_ratio + validation_set_ratio + test_set_ratio should sum to 1.0\")\n",
        "        return\n",
        "\n",
        "    labels = os.listdir(input_dir)\n",
        "    if 'test' in labels:\n",
        "        pass\n",
        "    else:\n",
        "        for folder in ['train', 'validation', 'test']:\n",
        "            for label in labels:\n",
        "                os.makedirs(name=input_dir + '/' + folder + '/' + label)\n",
        "\n",
        "        for label in labels:\n",
        "\n",
        "            files = os.listdir(input_dir + '/' + label)\n",
        "            random.shuffle(files)\n",
        "\n",
        "            train_set_size = int(len(files) * train_set_ratio)\n",
        "            validation_set_size = int(len(files) * validation_set_ratio)\n",
        "\n",
        "            count = 1\n",
        "            for file_name in files:\n",
        "                if count <= train_set_size:\n",
        "                    shutil.move(input_dir + '/' + label + '/' + file_name,\n",
        "                                input_dir + '/train/' + label + '/' + file_name)\n",
        "\n",
        "                elif count <= (train_set_size + validation_set_size):\n",
        "                    shutil.move(input_dir + '/' + label + '/' + file_name,\n",
        "                                input_dir + '/validation/' + label + '/' + file_name)\n",
        "\n",
        "                else:\n",
        "                    shutil.move(input_dir + '/' + label + '/' + file_name,\n",
        "                                input_dir + '/test/' + label + '/' + file_name)\n",
        "\n",
        "                count += 1\n",
        "\n",
        "            os.rmdir(input_dir + '/' + label)\n"
      ]
    },
    {
      "cell_type": "markdown",
      "metadata": {},
      "source": [
        "The image dataset is divided in the following ratio:\n",
        "+ Training set 0.7\n",
        "+ Validation set 0.1\n",
        "+ Test set 0.2"
      ]
    },
    {
      "cell_type": "code",
      "execution_count": 20,
      "metadata": {},
      "outputs": [],
      "source": [
        "split_data_images(input_dir=\"input/brain-mri-scans/\",\n",
        "                                   train_set_ratio=0.7,\n",
        "                                   validation_set_ratio=0.1,\n",
        "                                   test_set_ratio=0.2\n",
        "                                   )"
      ]
    },
    {
      "cell_type": "code",
      "execution_count": 21,
      "metadata": {},
      "outputs": [
        {
          "data": {
            "text/plain": [
              "['train', 'validation', 'test']"
            ]
          },
          "execution_count": 21,
          "metadata": {},
          "output_type": "execute_result"
        }
      ],
      "source": [
        "os.listdir('input/brain-mri-scans/')"
      ]
    }
  ],
  "metadata": {
    "accelerator": "GPU",
    "colab": {
      "name": "Data Practitioner Jupyter Notebook.ipynb",
      "provenance": [],
      "toc_visible": true
    },
    "interpreter": {
      "hash": "8b8334dab9339717f727a1deaf837b322d7a41c20d15cc86be99a8e69ceec8ce"
    },
    "kernelspec": {
      "display_name": "Python 3.8.12 64-bit ('3.8.12': pyenv)",
      "name": "python3"
    },
    "language_info": {
      "codemirror_mode": {
        "name": "ipython",
        "version": 3
      },
      "file_extension": ".py",
      "mimetype": "text/x-python",
      "name": "python",
      "nbconvert_exporter": "python",
      "pygments_lexer": "ipython3",
      "version": "3.10.12"
    },
    "orig_nbformat": 2
  },
  "nbformat": 4,
  "nbformat_minor": 2
}
